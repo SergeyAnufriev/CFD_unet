{
  "nbformat": 4,
  "nbformat_minor": 0,
  "metadata": {
    "colab": {
      "name": "Mesh_data_EDA.ipynb",
      "provenance": [],
      "include_colab_link": true
    },
    "kernelspec": {
      "name": "python3",
      "display_name": "Python 3"
    },
    "language_info": {
      "name": "python"
    }
  },
  "cells": [
    {
      "cell_type": "markdown",
      "metadata": {
        "id": "view-in-github",
        "colab_type": "text"
      },
      "source": [
        "<a href=\"https://colab.research.google.com/github/SergeyAnufriev/CFD_unet/blob/main/notebooks/Mesh_data_EDA.ipynb\" target=\"_parent\"><img src=\"https://colab.research.google.com/assets/colab-badge.svg\" alt=\"Open In Colab\"/></a>"
      ]
    },
    {
      "cell_type": "code",
      "execution_count": 1,
      "metadata": {
        "id": "Wt7grlluBD14",
        "colab": {
          "base_uri": "https://localhost:8080/"
        },
        "outputId": "729b6c56-e6c7-48f1-ec9c-26c60e797ad8"
      },
      "outputs": [
        {
          "output_type": "stream",
          "name": "stdout",
          "text": [
            "Cloning into 'CFD_unet'...\n",
            "remote: Enumerating objects: 578, done.\u001b[K\n",
            "remote: Counting objects: 100% (578/578), done.\u001b[K\n",
            "remote: Compressing objects: 100% (409/409), done.\u001b[K\n",
            "remote: Total 578 (delta 220), reused 507 (delta 161), pack-reused 0\u001b[K\n",
            "Receiving objects: 100% (578/578), 85.22 MiB | 18.78 MiB/s, done.\n",
            "Resolving deltas: 100% (220/220), done.\n",
            "Checking out files: 100% (305/305), done.\n"
          ]
        }
      ],
      "source": [
        "!rm -rf /content/CFD_unet\n",
        "!git clone https://github.com/SergeyAnufriev/CFD_unet.git"
      ]
    },
    {
      "cell_type": "markdown",
      "source": [
        "#This notebook investigates CFD simulation data\n"
      ],
      "metadata": {
        "id": "5FnQNgKcnf8S"
      }
    },
    {
      "cell_type": "code",
      "source": [
        "import pandas as pd\n",
        "import glob\n",
        "import sys \n",
        "import numpy as np\n",
        "import matplotlib.pyplot as plt"
      ],
      "metadata": {
        "id": "26f9ZMzBnCaQ"
      },
      "execution_count": 30,
      "outputs": []
    },
    {
      "cell_type": "code",
      "source": [
        "sys.path.append('/content/CFD_unet')"
      ],
      "metadata": {
        "id": "nFXFTgJgrx4h"
      },
      "execution_count": 3,
      "outputs": []
    },
    {
      "cell_type": "code",
      "source": [
        "files_c = glob.glob(r'/content/CFD_unet/dataset/*_c.txt')\n",
        "files_n = glob.glob(r'/content/CFD_unet/dataset/*_n.txt')"
      ],
      "metadata": {
        "id": "QfrHoPDRDuWN"
      },
      "execution_count": 4,
      "outputs": []
    },
    {
      "cell_type": "code",
      "source": [
        "len(files_n), len(files_c)"
      ],
      "metadata": {
        "id": "ERd-1iRCiUiO",
        "outputId": "d49fda20-e905-473a-f7cd-29fd3faab73d",
        "colab": {
          "base_uri": "https://localhost:8080/"
        }
      },
      "execution_count": 16,
      "outputs": [
        {
          "output_type": "execute_result",
          "data": {
            "text/plain": [
              "(99, 99)"
            ]
          },
          "metadata": {},
          "execution_count": 16
        }
      ]
    },
    {
      "cell_type": "code",
      "source": [
        "def read_file_n(dir_):\n",
        "  df = pd.read_csv(dir_,sep =' ',header=None)\n",
        "  df = df.drop(labels=list(range(1, 15, 2)),axis=1)\n",
        "  df.columns = ['node_num','node_type','x','y','P','u_x','u_y','cav']\n",
        "  df = df.astype({\"P\": float, \"cav\": float})\n",
        "\n",
        "  return df\n"
      ],
      "metadata": {
        "id": "ZUvTg1zfKXg0"
      },
      "execution_count": 5,
      "outputs": []
    },
    {
      "cell_type": "code",
      "source": [
        "df = read_file_n(files_n[17])"
      ],
      "metadata": {
        "id": "n-Ua3XECKlVx"
      },
      "execution_count": 6,
      "outputs": []
    },
    {
      "cell_type": "code",
      "source": [
        "df.head(10)"
      ],
      "metadata": {
        "id": "Ea_hLHfphj23",
        "outputId": "81a422d1-0c6d-41d5-dbc1-473b234e8235",
        "colab": {
          "base_uri": "https://localhost:8080/",
          "height": 362
        }
      },
      "execution_count": 10,
      "outputs": [
        {
          "output_type": "execute_result",
          "data": {
            "text/plain": [
              "   node_num  node_type      x         y        P      u_x       u_y  cav\n",
              "0         0          2  0.115  0.000182  11737.2  0.00000  0.000000  1.0\n",
              "1         1          1  0.500  0.250000  11698.4  1.97779  0.160467  1.0\n",
              "2         2          1  0.500 -0.250000  11699.0  1.99592  0.177322  1.0\n",
              "3         3          3 -0.500 -0.250000  11701.4  1.99214  0.177130  1.0\n",
              "4         4          3 -0.500  0.250000  11661.1  1.99218  0.177168  1.0\n",
              "5        10          1  0.500  0.230000  11698.4  1.97826  0.160503  1.0\n",
              "6        11          1  0.500  0.210000  11698.4  1.97941  0.160595  1.0\n",
              "7        12          1  0.500  0.190000  11698.4  1.98070  0.160699  1.0\n",
              "8        13          1  0.500  0.170000  11698.4  1.98172  0.160833  1.0\n",
              "9        14          1  0.500  0.150000  11698.4  1.98272  0.161022  1.0"
            ],
            "text/html": [
              "\n",
              "  <div id=\"df-6fdc1ae9-0dc6-45a0-b89d-50051de55d27\">\n",
              "    <div class=\"colab-df-container\">\n",
              "      <div>\n",
              "<style scoped>\n",
              "    .dataframe tbody tr th:only-of-type {\n",
              "        vertical-align: middle;\n",
              "    }\n",
              "\n",
              "    .dataframe tbody tr th {\n",
              "        vertical-align: top;\n",
              "    }\n",
              "\n",
              "    .dataframe thead th {\n",
              "        text-align: right;\n",
              "    }\n",
              "</style>\n",
              "<table border=\"1\" class=\"dataframe\">\n",
              "  <thead>\n",
              "    <tr style=\"text-align: right;\">\n",
              "      <th></th>\n",
              "      <th>node_num</th>\n",
              "      <th>node_type</th>\n",
              "      <th>x</th>\n",
              "      <th>y</th>\n",
              "      <th>P</th>\n",
              "      <th>u_x</th>\n",
              "      <th>u_y</th>\n",
              "      <th>cav</th>\n",
              "    </tr>\n",
              "  </thead>\n",
              "  <tbody>\n",
              "    <tr>\n",
              "      <th>0</th>\n",
              "      <td>0</td>\n",
              "      <td>2</td>\n",
              "      <td>0.115</td>\n",
              "      <td>0.000182</td>\n",
              "      <td>11737.2</td>\n",
              "      <td>0.00000</td>\n",
              "      <td>0.000000</td>\n",
              "      <td>1.0</td>\n",
              "    </tr>\n",
              "    <tr>\n",
              "      <th>1</th>\n",
              "      <td>1</td>\n",
              "      <td>1</td>\n",
              "      <td>0.500</td>\n",
              "      <td>0.250000</td>\n",
              "      <td>11698.4</td>\n",
              "      <td>1.97779</td>\n",
              "      <td>0.160467</td>\n",
              "      <td>1.0</td>\n",
              "    </tr>\n",
              "    <tr>\n",
              "      <th>2</th>\n",
              "      <td>2</td>\n",
              "      <td>1</td>\n",
              "      <td>0.500</td>\n",
              "      <td>-0.250000</td>\n",
              "      <td>11699.0</td>\n",
              "      <td>1.99592</td>\n",
              "      <td>0.177322</td>\n",
              "      <td>1.0</td>\n",
              "    </tr>\n",
              "    <tr>\n",
              "      <th>3</th>\n",
              "      <td>3</td>\n",
              "      <td>3</td>\n",
              "      <td>-0.500</td>\n",
              "      <td>-0.250000</td>\n",
              "      <td>11701.4</td>\n",
              "      <td>1.99214</td>\n",
              "      <td>0.177130</td>\n",
              "      <td>1.0</td>\n",
              "    </tr>\n",
              "    <tr>\n",
              "      <th>4</th>\n",
              "      <td>4</td>\n",
              "      <td>3</td>\n",
              "      <td>-0.500</td>\n",
              "      <td>0.250000</td>\n",
              "      <td>11661.1</td>\n",
              "      <td>1.99218</td>\n",
              "      <td>0.177168</td>\n",
              "      <td>1.0</td>\n",
              "    </tr>\n",
              "    <tr>\n",
              "      <th>5</th>\n",
              "      <td>10</td>\n",
              "      <td>1</td>\n",
              "      <td>0.500</td>\n",
              "      <td>0.230000</td>\n",
              "      <td>11698.4</td>\n",
              "      <td>1.97826</td>\n",
              "      <td>0.160503</td>\n",
              "      <td>1.0</td>\n",
              "    </tr>\n",
              "    <tr>\n",
              "      <th>6</th>\n",
              "      <td>11</td>\n",
              "      <td>1</td>\n",
              "      <td>0.500</td>\n",
              "      <td>0.210000</td>\n",
              "      <td>11698.4</td>\n",
              "      <td>1.97941</td>\n",
              "      <td>0.160595</td>\n",
              "      <td>1.0</td>\n",
              "    </tr>\n",
              "    <tr>\n",
              "      <th>7</th>\n",
              "      <td>12</td>\n",
              "      <td>1</td>\n",
              "      <td>0.500</td>\n",
              "      <td>0.190000</td>\n",
              "      <td>11698.4</td>\n",
              "      <td>1.98070</td>\n",
              "      <td>0.160699</td>\n",
              "      <td>1.0</td>\n",
              "    </tr>\n",
              "    <tr>\n",
              "      <th>8</th>\n",
              "      <td>13</td>\n",
              "      <td>1</td>\n",
              "      <td>0.500</td>\n",
              "      <td>0.170000</td>\n",
              "      <td>11698.4</td>\n",
              "      <td>1.98172</td>\n",
              "      <td>0.160833</td>\n",
              "      <td>1.0</td>\n",
              "    </tr>\n",
              "    <tr>\n",
              "      <th>9</th>\n",
              "      <td>14</td>\n",
              "      <td>1</td>\n",
              "      <td>0.500</td>\n",
              "      <td>0.150000</td>\n",
              "      <td>11698.4</td>\n",
              "      <td>1.98272</td>\n",
              "      <td>0.161022</td>\n",
              "      <td>1.0</td>\n",
              "    </tr>\n",
              "  </tbody>\n",
              "</table>\n",
              "</div>\n",
              "      <button class=\"colab-df-convert\" onclick=\"convertToInteractive('df-6fdc1ae9-0dc6-45a0-b89d-50051de55d27')\"\n",
              "              title=\"Convert this dataframe to an interactive table.\"\n",
              "              style=\"display:none;\">\n",
              "        \n",
              "  <svg xmlns=\"http://www.w3.org/2000/svg\" height=\"24px\"viewBox=\"0 0 24 24\"\n",
              "       width=\"24px\">\n",
              "    <path d=\"M0 0h24v24H0V0z\" fill=\"none\"/>\n",
              "    <path d=\"M18.56 5.44l.94 2.06.94-2.06 2.06-.94-2.06-.94-.94-2.06-.94 2.06-2.06.94zm-11 1L8.5 8.5l.94-2.06 2.06-.94-2.06-.94L8.5 2.5l-.94 2.06-2.06.94zm10 10l.94 2.06.94-2.06 2.06-.94-2.06-.94-.94-2.06-.94 2.06-2.06.94z\"/><path d=\"M17.41 7.96l-1.37-1.37c-.4-.4-.92-.59-1.43-.59-.52 0-1.04.2-1.43.59L10.3 9.45l-7.72 7.72c-.78.78-.78 2.05 0 2.83L4 21.41c.39.39.9.59 1.41.59.51 0 1.02-.2 1.41-.59l7.78-7.78 2.81-2.81c.8-.78.8-2.07 0-2.86zM5.41 20L4 18.59l7.72-7.72 1.47 1.35L5.41 20z\"/>\n",
              "  </svg>\n",
              "      </button>\n",
              "      \n",
              "  <style>\n",
              "    .colab-df-container {\n",
              "      display:flex;\n",
              "      flex-wrap:wrap;\n",
              "      gap: 12px;\n",
              "    }\n",
              "\n",
              "    .colab-df-convert {\n",
              "      background-color: #E8F0FE;\n",
              "      border: none;\n",
              "      border-radius: 50%;\n",
              "      cursor: pointer;\n",
              "      display: none;\n",
              "      fill: #1967D2;\n",
              "      height: 32px;\n",
              "      padding: 0 0 0 0;\n",
              "      width: 32px;\n",
              "    }\n",
              "\n",
              "    .colab-df-convert:hover {\n",
              "      background-color: #E2EBFA;\n",
              "      box-shadow: 0px 1px 2px rgba(60, 64, 67, 0.3), 0px 1px 3px 1px rgba(60, 64, 67, 0.15);\n",
              "      fill: #174EA6;\n",
              "    }\n",
              "\n",
              "    [theme=dark] .colab-df-convert {\n",
              "      background-color: #3B4455;\n",
              "      fill: #D2E3FC;\n",
              "    }\n",
              "\n",
              "    [theme=dark] .colab-df-convert:hover {\n",
              "      background-color: #434B5C;\n",
              "      box-shadow: 0px 1px 3px 1px rgba(0, 0, 0, 0.15);\n",
              "      filter: drop-shadow(0px 1px 2px rgba(0, 0, 0, 0.3));\n",
              "      fill: #FFFFFF;\n",
              "    }\n",
              "  </style>\n",
              "\n",
              "      <script>\n",
              "        const buttonEl =\n",
              "          document.querySelector('#df-6fdc1ae9-0dc6-45a0-b89d-50051de55d27 button.colab-df-convert');\n",
              "        buttonEl.style.display =\n",
              "          google.colab.kernel.accessAllowed ? 'block' : 'none';\n",
              "\n",
              "        async function convertToInteractive(key) {\n",
              "          const element = document.querySelector('#df-6fdc1ae9-0dc6-45a0-b89d-50051de55d27');\n",
              "          const dataTable =\n",
              "            await google.colab.kernel.invokeFunction('convertToInteractive',\n",
              "                                                     [key], {});\n",
              "          if (!dataTable) return;\n",
              "\n",
              "          const docLinkHtml = 'Like what you see? Visit the ' +\n",
              "            '<a target=\"_blank\" href=https://colab.research.google.com/notebooks/data_table.ipynb>data table notebook</a>'\n",
              "            + ' to learn more about interactive tables.';\n",
              "          element.innerHTML = '';\n",
              "          dataTable['output_type'] = 'display_data';\n",
              "          await google.colab.output.renderOutput(dataTable, element);\n",
              "          const docLink = document.createElement('div');\n",
              "          docLink.innerHTML = docLinkHtml;\n",
              "          element.appendChild(docLink);\n",
              "        }\n",
              "      </script>\n",
              "    </div>\n",
              "  </div>\n",
              "  "
            ]
          },
          "metadata": {},
          "execution_count": 10
        }
      ]
    },
    {
      "cell_type": "code",
      "source": [
        "len(df)"
      ],
      "metadata": {
        "id": "wWuL4H5chs9O",
        "outputId": "acb1a703-b509-464b-c3a1-332b94b553d7",
        "colab": {
          "base_uri": "https://localhost:8080/"
        }
      },
      "execution_count": 11,
      "outputs": [
        {
          "output_type": "execute_result",
          "data": {
            "text/plain": [
              "7420"
            ]
          },
          "metadata": {},
          "execution_count": 11
        }
      ]
    },
    {
      "cell_type": "code",
      "source": [
        "df['P'].value_counts()"
      ],
      "metadata": {
        "id": "fuoED_4Uyx4W",
        "outputId": "c7e2af37-ae40-4a89-a8c2-65f35e2cbb72",
        "colab": {
          "base_uri": "https://localhost:8080/"
        }
      },
      "execution_count": 78,
      "outputs": [
        {
          "output_type": "execute_result",
          "data": {
            "text/plain": [
              "15355.1    30\n",
              "15355.0    14\n",
              "15368.3    11\n",
              "15330.1    10\n",
              "15357.4    10\n",
              "           ..\n",
              "15318.3     1\n",
              "15438.0     1\n",
              "14475.3     1\n",
              "15333.5     1\n",
              "15431.6     1\n",
              "Name: P, Length: 4312, dtype: int64"
            ]
          },
          "metadata": {},
          "execution_count": 78
        }
      ]
    },
    {
      "cell_type": "code",
      "source": [
        "len(df)"
      ],
      "metadata": {
        "id": "-UB2eQ9jy5Vc",
        "outputId": "98a9fb28-7dfc-41ec-d819-a78c569490ec",
        "colab": {
          "base_uri": "https://localhost:8080/"
        }
      },
      "execution_count": 79,
      "outputs": [
        {
          "output_type": "execute_result",
          "data": {
            "text/plain": [
              "7420"
            ]
          },
          "metadata": {},
          "execution_count": 79
        }
      ]
    },
    {
      "cell_type": "code",
      "source": [
        "fig, axs = plt.subplots(1, 3,figsize=(15,5))\n",
        "\n",
        "axs[0].hist(df['P'].values)\n",
        "axs[0].set_title('P')\n",
        "axs[1].hist(df['u_x'].values)\n",
        "axs[1].set_title('u_x')\n",
        "axs[2].hist(df['u_y'].values)\n",
        "axs[2].set_title('u_y')"
      ],
      "metadata": {
        "id": "jk2OIfEPwLKu",
        "outputId": "4fbd225c-a68b-4b41-b813-52f097f52221",
        "colab": {
          "base_uri": "https://localhost:8080/",
          "height": 353
        }
      },
      "execution_count": 67,
      "outputs": [
        {
          "output_type": "execute_result",
          "data": {
            "text/plain": [
              "Text(0.5, 1.0, 'u_y')"
            ]
          },
          "metadata": {},
          "execution_count": 67
        },
        {
          "output_type": "display_data",
          "data": {
            "text/plain": [
              "<Figure size 1080x360 with 3 Axes>"
            ],
            "image/png": "[encoded data removed]"
          },
          "metadata": {
            "needs_background": "light"
          }
        }
      ]
    },
    {
      "cell_type": "code",
      "source": [
        "def check_repeat_val(x:str)->int:\n",
        "  '''Function checks the number of files with repeting values'''\n",
        "  \n",
        "  count = 0\n",
        "  for file_ in files_n:\n",
        "    df = read_file_n(file_)\n",
        "    if len(df[x].value_counts()) <2000:\n",
        "      count+=1\n",
        "\n",
        "  return count"
      ],
      "metadata": {
        "id": "BxcWGzEsi8Yg"
      },
      "execution_count": 82,
      "outputs": []
    },
    {
      "cell_type": "code",
      "source": [
        "### all files do not have repeating values\n",
        "\n",
        "check_repeat_val('P'), check_repeat_val('u_x'),check_repeat_val('u_y')"
      ],
      "metadata": {
        "id": "PVRaXz5uQYMJ",
        "outputId": "ee0c32f4-a049-4ae3-cfe1-e7709b04f1c9",
        "colab": {
          "base_uri": "https://localhost:8080/"
        }
      },
      "execution_count": 83,
      "outputs": [
        {
          "output_type": "execute_result",
          "data": {
            "text/plain": [
              "(0, 0, 0)"
            ]
          },
          "metadata": {},
          "execution_count": 83
        }
      ]
    },
    {
      "cell_type": "code",
      "source": [
        ""
      ],
      "metadata": {
        "id": "SByTIAqdytLV"
      },
      "execution_count": null,
      "outputs": []
    },
    {
      "cell_type": "code",
      "source": [
        "P_min   = [read_file_n(x)['P'].min() for x in files_n]\n",
        "P_max   = [read_file_n(x)['P'].max() for x in files_n]\n",
        "P_mean  = [read_file_n(x)['P'].mean() for x in files_n]\n",
        "\n",
        "u_x_min  = [read_file_n(x)['u_x'].min() for x in files_n]\n",
        "u_x_max  = [read_file_n(x)['u_x'].max() for x in files_n]\n",
        "u_x_mean = [read_file_n(x)['u_x'].mean() for x in files_n]\n",
        "\n",
        "u_y_min  = [read_file_n(x)['u_y'].min() for x in files_n]\n",
        "u_y_max  = [read_file_n(x)['u_y'].max() for x in files_n]\n",
        "u_y_mean = [read_file_n(x)['u_y'].mean() for x in files_n]"
      ],
      "metadata": {
        "id": "it9rKR_flVyx"
      },
      "execution_count": 49,
      "outputs": []
    },
    {
      "cell_type": "code",
      "source": [
        "fig, axs = plt.subplots(3, 3,figsize=(15,10))\n",
        "\n",
        "\n",
        "axs[0,0].hist(P_min)\n",
        "axs[0, 0].set_title('P_min')\n",
        "axs[0,1].hist(P_mean)\n",
        "axs[0, 1].set_title('P_mean')\n",
        "axs[0,2].hist(P_max)\n",
        "axs[0, 2].set_title('P_max')\n",
        "\n",
        "axs[1,0].hist(u_x_min)\n",
        "axs[1, 0].set_title('U_x_min')\n",
        "axs[1,1].hist(u_x_mean)\n",
        "axs[1, 1].set_title('U_x_mean')\n",
        "axs[1,2].hist(u_x_max)\n",
        "axs[1, 2].set_title('U_x_max')\n",
        "\n",
        "axs[2,0].hist(u_y_min)\n",
        "axs[2, 0].set_title('U_y_min')\n",
        "axs[2,1].hist(u_y_mean)\n",
        "axs[2, 1].set_title('U_y_mean')\n",
        "axs[2,2].hist(u_y_max)\n",
        "axs[2, 2].set_title('U_y_max')\n",
        "\n",
        "plt.tight_layout()"
      ],
      "metadata": {
        "id": "9m0QlpVFnO_0",
        "outputId": "de450850-ebe2-412a-89f5-6e1a8a107617",
        "colab": {
          "base_uri": "https://localhost:8080/",
          "height": 729
        }
      },
      "execution_count": 60,
      "outputs": [
        {
          "output_type": "display_data",
          "data": {
            "text/plain": [
              "<Figure size 1080x720 with 9 Axes>"
            ],
            "image/png": "[encoded data removed]"
          },
          "metadata": {
            "needs_background": "light"
          }
        }
      ]
    },
    {
      "cell_type": "code",
      "source": [
        "# Install required packages.\n",
        "!pip install -q torch-scatter -f https://data.pyg.org/whl/torch-1.10.0+cu113.html\n",
        "!pip install -q torch-sparse -f https://data.pyg.org/whl/torch-1.10.0+cu113.html\n",
        "!pip install -q git+https://github.com/pyg-team/pytorch_geometric.git\n"
      ],
      "metadata": {
        "id": "iKLWnR6PwCpr",
        "outputId": "6ab7033f-e559-4188-988b-40bae018573b",
        "colab": {
          "base_uri": "https://localhost:8080/"
        }
      },
      "execution_count": 84,
      "outputs": [
        {
          "output_type": "stream",
          "name": "stdout",
          "text": [
            "\u001b[K     |████████████████████████████████| 7.9 MB 5.7 MB/s \n",
            "\u001b[K     |████████████████████████████████| 3.5 MB 5.3 MB/s \n",
            "\u001b[?25h  Building wheel for torch-geometric (setup.py) ... \u001b[?25l\u001b[?25hdone\n"
          ]
        }
      ]
    },
    {
      "cell_type": "code",
      "source": [
        "from torch_geometric.data import DataLoader\n",
        "from data_ import dataset_graph_,velocities_cav"
      ],
      "metadata": {
        "id": "9uwG9oAR7vtG"
      },
      "execution_count": 92,
      "outputs": []
    },
    {
      "cell_type": "code",
      "source": [
        "dir_    = r'/content/CFD_unet/dataset/*txt'\n",
        "dataset = dataset_graph_(dir_)"
      ],
      "metadata": {
        "id": "Fa2YT1Tp70-X"
      },
      "execution_count": 87,
      "outputs": []
    },
    {
      "cell_type": "code",
      "source": [
        "len(dataset)"
      ],
      "metadata": {
        "id": "QLcYnBXF8aPX",
        "outputId": "32a5b35d-2574-4109-8051-a52b9e392204",
        "colab": {
          "base_uri": "https://localhost:8080/"
        }
      },
      "execution_count": 90,
      "outputs": [
        {
          "output_type": "execute_result",
          "data": {
            "text/plain": [
              "99"
            ]
          },
          "metadata": {},
          "execution_count": 90
        }
      ]
    },
    {
      "cell_type": "code",
      "source": [
        "import torch"
      ],
      "metadata": {
        "id": "fAKZJoB8Fsg2"
      },
      "execution_count": 98,
      "outputs": []
    },
    {
      "cell_type": "code",
      "source": [
        "def velocities_cav(dir):\n",
        "    '''Input file name:\n",
        "    Output: u_x,u_y,cav'''\n",
        "    data = dir.split('\\\\')[-1].split('_')\n",
        "    u_x  = float(data[1])/100\n",
        "    u_y  = float(data[2])/100\n",
        "    cav  = float(data[-2])/100\n",
        "\n",
        "    return torch.tensor([u_x,u_y,cav],dtype=torch.float32)"
      ],
      "metadata": {
        "id": "eEs8CIkpFne6"
      },
      "execution_count": 101,
      "outputs": []
    },
    {
      "cell_type": "code",
      "source": [
        "import glob"
      ],
      "metadata": {
        "id": "OK2ArJuoFVav"
      },
      "execution_count": 94,
      "outputs": []
    },
    {
      "cell_type": "code",
      "source": [
        "files = glob.glob(dir_)"
      ],
      "metadata": {
        "id": "RJlCBQzkFXev"
      },
      "execution_count": 95,
      "outputs": []
    },
    {
      "cell_type": "code",
      "source": [
        "velocities_cav(files[0])"
      ],
      "metadata": {
        "id": "gToWnqmWFbWj",
        "outputId": "f317266f-8216-4a38-81c1-249c86b9aeb1",
        "colab": {
          "base_uri": "https://localhost:8080/",
          "height": 286
        }
      },
      "execution_count": 102,
      "outputs": [
        {
          "output_type": "error",
          "ename": "ValueError",
          "evalue": "ignored",
          "traceback": [
            "\u001b[0;31m---------------------------------------------------------------------------\u001b[0m",
            "\u001b[0;31mValueError\u001b[0m                                Traceback (most recent call last)",
            "\u001b[0;32m<ipython-input-102-ef1c505a950f>\u001b[0m in \u001b[0;36m<module>\u001b[0;34m()\u001b[0m\n\u001b[0;32m----> 1\u001b[0;31m \u001b[0mvelocities_cav\u001b[0m\u001b[0;34m(\u001b[0m\u001b[0mfiles\u001b[0m\u001b[0;34m[\u001b[0m\u001b[0;36m0\u001b[0m\u001b[0;34m]\u001b[0m\u001b[0;34m)\u001b[0m\u001b[0;34m\u001b[0m\u001b[0;34m\u001b[0m\u001b[0m\n\u001b[0m",
            "\u001b[0;32m<ipython-input-101-74ee0b6e5fd3>\u001b[0m in \u001b[0;36mvelocities_cav\u001b[0;34m(dir)\u001b[0m\n\u001b[1;32m      3\u001b[0m     Output: u_x,u_y,cav'''\n\u001b[1;32m      4\u001b[0m     \u001b[0mdata\u001b[0m \u001b[0;34m=\u001b[0m \u001b[0mdir\u001b[0m\u001b[0;34m.\u001b[0m\u001b[0msplit\u001b[0m\u001b[0;34m(\u001b[0m\u001b[0;34m'\\\\'\u001b[0m\u001b[0;34m)\u001b[0m\u001b[0;34m[\u001b[0m\u001b[0;34m-\u001b[0m\u001b[0;36m1\u001b[0m\u001b[0;34m]\u001b[0m\u001b[0;34m.\u001b[0m\u001b[0msplit\u001b[0m\u001b[0;34m(\u001b[0m\u001b[0;34m'_'\u001b[0m\u001b[0;34m)\u001b[0m\u001b[0;34m\u001b[0m\u001b[0;34m\u001b[0m\u001b[0m\n\u001b[0;32m----> 5\u001b[0;31m     \u001b[0mu_x\u001b[0m  \u001b[0;34m=\u001b[0m \u001b[0mfloat\u001b[0m\u001b[0;34m(\u001b[0m\u001b[0mdata\u001b[0m\u001b[0;34m[\u001b[0m\u001b[0;36m1\u001b[0m\u001b[0;34m]\u001b[0m\u001b[0;34m)\u001b[0m\u001b[0;34m/\u001b[0m\u001b[0;36m100\u001b[0m\u001b[0;34m\u001b[0m\u001b[0;34m\u001b[0m\u001b[0m\n\u001b[0m\u001b[1;32m      6\u001b[0m     \u001b[0mu_y\u001b[0m  \u001b[0;34m=\u001b[0m \u001b[0mfloat\u001b[0m\u001b[0;34m(\u001b[0m\u001b[0mdata\u001b[0m\u001b[0;34m[\u001b[0m\u001b[0;36m2\u001b[0m\u001b[0;34m]\u001b[0m\u001b[0;34m)\u001b[0m\u001b[0;34m/\u001b[0m\u001b[0;36m100\u001b[0m\u001b[0;34m\u001b[0m\u001b[0;34m\u001b[0m\u001b[0m\n\u001b[1;32m      7\u001b[0m     \u001b[0mcav\u001b[0m  \u001b[0;34m=\u001b[0m \u001b[0mfloat\u001b[0m\u001b[0;34m(\u001b[0m\u001b[0mdata\u001b[0m\u001b[0;34m[\u001b[0m\u001b[0;34m-\u001b[0m\u001b[0;36m2\u001b[0m\u001b[0;34m]\u001b[0m\u001b[0;34m)\u001b[0m\u001b[0;34m/\u001b[0m\u001b[0;36m100\u001b[0m\u001b[0;34m\u001b[0m\u001b[0;34m\u001b[0m\u001b[0m\n",
            "\u001b[0;31mValueError\u001b[0m: could not convert string to float: 'unet/dataset/73e216'"
          ]
        }
      ]
    },
    {
      "cell_type": "code",
      "source": [
        "dir1 = '67e334_198_-21_14936_626_-61_n.txt'\n"
      ],
      "metadata": {
        "id": "mQB0GcsWAMbn"
      },
      "execution_count": 91,
      "outputs": []
    },
    {
      "cell_type": "code",
      "source": [
        "velocities_cav(dir1)"
      ],
      "metadata": {
        "id": "dmCxeep5Ed4t",
        "outputId": "14f1038d-959b-4211-cf1b-9fde832f8d2f",
        "colab": {
          "base_uri": "https://localhost:8080/"
        }
      },
      "execution_count": 93,
      "outputs": [
        {
          "output_type": "execute_result",
          "data": {
            "text/plain": [
              "tensor([ 1.9800, -0.2100, -0.6100])"
            ]
          },
          "metadata": {},
          "execution_count": 93
        }
      ]
    },
    {
      "cell_type": "code",
      "source": [
        "graph ,X_out  = dataset.get(10)\n",
        "\n",
        "X_feat  = graph.x[:,:2]\n",
        "pos_    =  {x:(float(X_feat[x,0].numpy()),float(X_feat[x,1].numpy())) for x in range(len(X_feat))}"
      ],
      "metadata": {
        "id": "moHa0yc08KLt",
        "outputId": "587ec369-3155-48d3-9d34-d541a3f01e2a",
        "colab": {
          "base_uri": "https://localhost:8080/",
          "height": 362
        }
      },
      "execution_count": 89,
      "outputs": [
        {
          "output_type": "error",
          "ename": "ValueError",
          "evalue": "ignored",
          "traceback": [
            "\u001b[0;31m---------------------------------------------------------------------------\u001b[0m",
            "\u001b[0;31mValueError\u001b[0m                                Traceback (most recent call last)",
            "\u001b[0;32m<ipython-input-89-ba568bda3ef7>\u001b[0m in \u001b[0;36m<module>\u001b[0;34m()\u001b[0m\n\u001b[0;32m----> 1\u001b[0;31m \u001b[0mgraph\u001b[0m \u001b[0;34m,\u001b[0m\u001b[0mX_out\u001b[0m  \u001b[0;34m=\u001b[0m \u001b[0mdataset\u001b[0m\u001b[0;34m.\u001b[0m\u001b[0mget\u001b[0m\u001b[0;34m(\u001b[0m\u001b[0;36m10\u001b[0m\u001b[0;34m)\u001b[0m\u001b[0;34m\u001b[0m\u001b[0;34m\u001b[0m\u001b[0m\n\u001b[0m\u001b[1;32m      2\u001b[0m \u001b[0;34m\u001b[0m\u001b[0m\n\u001b[1;32m      3\u001b[0m \u001b[0mX_feat\u001b[0m  \u001b[0;34m=\u001b[0m \u001b[0mgraph\u001b[0m\u001b[0;34m.\u001b[0m\u001b[0mx\u001b[0m\u001b[0;34m[\u001b[0m\u001b[0;34m:\u001b[0m\u001b[0;34m,\u001b[0m\u001b[0;34m:\u001b[0m\u001b[0;36m2\u001b[0m\u001b[0;34m]\u001b[0m\u001b[0;34m\u001b[0m\u001b[0;34m\u001b[0m\u001b[0m\n\u001b[1;32m      4\u001b[0m \u001b[0mpos_\u001b[0m    \u001b[0;34m=\u001b[0m  \u001b[0;34m{\u001b[0m\u001b[0mx\u001b[0m\u001b[0;34m:\u001b[0m\u001b[0;34m(\u001b[0m\u001b[0mfloat\u001b[0m\u001b[0;34m(\u001b[0m\u001b[0mX_feat\u001b[0m\u001b[0;34m[\u001b[0m\u001b[0mx\u001b[0m\u001b[0;34m,\u001b[0m\u001b[0;36m0\u001b[0m\u001b[0;34m]\u001b[0m\u001b[0;34m.\u001b[0m\u001b[0mnumpy\u001b[0m\u001b[0;34m(\u001b[0m\u001b[0;34m)\u001b[0m\u001b[0;34m)\u001b[0m\u001b[0;34m,\u001b[0m\u001b[0mfloat\u001b[0m\u001b[0;34m(\u001b[0m\u001b[0mX_feat\u001b[0m\u001b[0;34m[\u001b[0m\u001b[0mx\u001b[0m\u001b[0;34m,\u001b[0m\u001b[0;36m1\u001b[0m\u001b[0;34m]\u001b[0m\u001b[0;34m.\u001b[0m\u001b[0mnumpy\u001b[0m\u001b[0;34m(\u001b[0m\u001b[0;34m)\u001b[0m\u001b[0;34m)\u001b[0m\u001b[0;34m)\u001b[0m \u001b[0;32mfor\u001b[0m \u001b[0mx\u001b[0m \u001b[0;32min\u001b[0m \u001b[0mrange\u001b[0m\u001b[0;34m(\u001b[0m\u001b[0mlen\u001b[0m\u001b[0;34m(\u001b[0m\u001b[0mX_feat\u001b[0m\u001b[0;34m)\u001b[0m\u001b[0;34m)\u001b[0m\u001b[0;34m}\u001b[0m\u001b[0;34m\u001b[0m\u001b[0;34m\u001b[0m\u001b[0m\n",
            "\u001b[0;32m/content/CFD_unet/data_.py\u001b[0m in \u001b[0;36mget\u001b[0;34m(self, idx)\u001b[0m\n\u001b[1;32m    145\u001b[0m         \u001b[0mn\u001b[0m \u001b[0;34m=\u001b[0m \u001b[0mc\u001b[0m \u001b[0;34m+\u001b[0m \u001b[0;36m2\u001b[0m\u001b[0;34m\u001b[0m\u001b[0;34m\u001b[0m\u001b[0m\n\u001b[1;32m    146\u001b[0m \u001b[0;34m\u001b[0m\u001b[0m\n\u001b[0;32m--> 147\u001b[0;31m         \u001b[0mX_input\u001b[0m\u001b[0;34m,\u001b[0m \u001b[0mX_output\u001b[0m\u001b[0;34m,\u001b[0m \u001b[0mnode_dict_\u001b[0m \u001b[0;34m=\u001b[0m \u001b[0mnode_data\u001b[0m\u001b[0;34m(\u001b[0m\u001b[0mself\u001b[0m\u001b[0;34m.\u001b[0m\u001b[0mfiles\u001b[0m\u001b[0;34m[\u001b[0m\u001b[0mn\u001b[0m\u001b[0;34m]\u001b[0m\u001b[0;34m)\u001b[0m\u001b[0;34m\u001b[0m\u001b[0;34m\u001b[0m\u001b[0m\n\u001b[0m\u001b[1;32m    148\u001b[0m         \u001b[0mcoo_matrix\u001b[0m                    \u001b[0;34m=\u001b[0m \u001b[0mconnectivity_data\u001b[0m\u001b[0;34m(\u001b[0m\u001b[0mself\u001b[0m\u001b[0;34m.\u001b[0m\u001b[0mfiles\u001b[0m\u001b[0;34m[\u001b[0m\u001b[0mc\u001b[0m\u001b[0;34m]\u001b[0m\u001b[0;34m,\u001b[0m \u001b[0mnode_dict_\u001b[0m\u001b[0;34m)\u001b[0m\u001b[0;34m\u001b[0m\u001b[0;34m\u001b[0m\u001b[0m\n\u001b[1;32m    149\u001b[0m         \u001b[0medge_feat\u001b[0m                     \u001b[0;34m=\u001b[0m \u001b[0medge_features\u001b[0m\u001b[0;34m(\u001b[0m\u001b[0mcoo_matrix\u001b[0m\u001b[0;34m,\u001b[0m\u001b[0mX_input\u001b[0m\u001b[0;34m)\u001b[0m\u001b[0;34m\u001b[0m\u001b[0;34m\u001b[0m\u001b[0m\n",
            "\u001b[0;32m/content/CFD_unet/data_.py\u001b[0m in \u001b[0;36mnode_data\u001b[0;34m(dir)\u001b[0m\n\u001b[1;32m    104\u001b[0m     \u001b[0moutput_nodes_data\u001b[0m \u001b[0;34m=\u001b[0m \u001b[0mtorch\u001b[0m\u001b[0;34m.\u001b[0m\u001b[0mzeros\u001b[0m\u001b[0;34m(\u001b[0m\u001b[0mlen\u001b[0m\u001b[0;34m(\u001b[0m\u001b[0mfiles2\u001b[0m\u001b[0;34m)\u001b[0m\u001b[0;34m,\u001b[0m\u001b[0;36m3\u001b[0m\u001b[0;34m)\u001b[0m                 \u001b[0;31m# v_x,v_y,P\u001b[0m\u001b[0;34m\u001b[0m\u001b[0;34m\u001b[0m\u001b[0m\n\u001b[1;32m    105\u001b[0m     \u001b[0minput_coord\u001b[0m       \u001b[0;34m=\u001b[0m \u001b[0mtorch\u001b[0m\u001b[0;34m.\u001b[0m\u001b[0mzeros\u001b[0m\u001b[0;34m(\u001b[0m\u001b[0mlen\u001b[0m\u001b[0;34m(\u001b[0m\u001b[0mfiles2\u001b[0m\u001b[0;34m)\u001b[0m\u001b[0;34m,\u001b[0m\u001b[0;36m2\u001b[0m\u001b[0;34m)\u001b[0m                 \u001b[0;31m# x,y\u001b[0m\u001b[0;34m\u001b[0m\u001b[0;34m\u001b[0m\u001b[0m\n\u001b[0;32m--> 106\u001b[0;31m     \u001b[0mu_x_u_y_cav\u001b[0m       \u001b[0;34m=\u001b[0m \u001b[0mvelocities_cav\u001b[0m\u001b[0;34m(\u001b[0m\u001b[0mdir\u001b[0m\u001b[0;34m)\u001b[0m\u001b[0;34m.\u001b[0m\u001b[0mrepeat\u001b[0m\u001b[0;34m(\u001b[0m\u001b[0mlen\u001b[0m\u001b[0;34m(\u001b[0m\u001b[0mfiles2\u001b[0m\u001b[0;34m)\u001b[0m\u001b[0;34m,\u001b[0m \u001b[0;36m1\u001b[0m\u001b[0;34m)\u001b[0m \u001b[0;31m# values the same for all input graph nodes\u001b[0m\u001b[0;34m\u001b[0m\u001b[0;34m\u001b[0m\u001b[0m\n\u001b[0m\u001b[1;32m    107\u001b[0m \u001b[0;34m\u001b[0m\u001b[0m\n\u001b[1;32m    108\u001b[0m \u001b[0;34m\u001b[0m\u001b[0m\n",
            "\u001b[0;32m/content/CFD_unet/data_.py\u001b[0m in \u001b[0;36mvelocities_cav\u001b[0;34m(dir)\u001b[0m\n\u001b[1;32m     87\u001b[0m     Output: u_x,u_y,cav'''\n\u001b[1;32m     88\u001b[0m     \u001b[0mdata\u001b[0m \u001b[0;34m=\u001b[0m \u001b[0mdir\u001b[0m\u001b[0;34m.\u001b[0m\u001b[0msplit\u001b[0m\u001b[0;34m(\u001b[0m\u001b[0;34m'\\\\'\u001b[0m\u001b[0;34m)\u001b[0m\u001b[0;34m[\u001b[0m\u001b[0;34m-\u001b[0m\u001b[0;36m1\u001b[0m\u001b[0;34m]\u001b[0m\u001b[0;34m.\u001b[0m\u001b[0msplit\u001b[0m\u001b[0;34m(\u001b[0m\u001b[0;34m'_'\u001b[0m\u001b[0;34m)\u001b[0m\u001b[0;34m\u001b[0m\u001b[0;34m\u001b[0m\u001b[0m\n\u001b[0;32m---> 89\u001b[0;31m     \u001b[0mu_x\u001b[0m  \u001b[0;34m=\u001b[0m \u001b[0mfloat\u001b[0m\u001b[0;34m(\u001b[0m\u001b[0mdata\u001b[0m\u001b[0;34m[\u001b[0m\u001b[0;36m1\u001b[0m\u001b[0;34m]\u001b[0m\u001b[0;34m)\u001b[0m\u001b[0;34m/\u001b[0m\u001b[0;36m100\u001b[0m\u001b[0;34m\u001b[0m\u001b[0;34m\u001b[0m\u001b[0m\n\u001b[0m\u001b[1;32m     90\u001b[0m     \u001b[0mu_y\u001b[0m  \u001b[0;34m=\u001b[0m \u001b[0mfloat\u001b[0m\u001b[0;34m(\u001b[0m\u001b[0mdata\u001b[0m\u001b[0;34m[\u001b[0m\u001b[0;36m2\u001b[0m\u001b[0;34m]\u001b[0m\u001b[0;34m)\u001b[0m\u001b[0;34m/\u001b[0m\u001b[0;36m100\u001b[0m\u001b[0;34m\u001b[0m\u001b[0;34m\u001b[0m\u001b[0m\n\u001b[1;32m     91\u001b[0m     \u001b[0mcav\u001b[0m  \u001b[0;34m=\u001b[0m \u001b[0mfloat\u001b[0m\u001b[0;34m(\u001b[0m\u001b[0mdata\u001b[0m\u001b[0;34m[\u001b[0m\u001b[0;34m-\u001b[0m\u001b[0;36m2\u001b[0m\u001b[0;34m]\u001b[0m\u001b[0;34m)\u001b[0m\u001b[0;34m/\u001b[0m\u001b[0;36m100\u001b[0m\u001b[0;34m\u001b[0m\u001b[0;34m\u001b[0m\u001b[0m\n",
            "\u001b[0;31mValueError\u001b[0m: could not convert string to float: 'unet/dataset/67e334'"
          ]
        }
      ]
    }
  ]
}