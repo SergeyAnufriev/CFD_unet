{
  "nbformat": 4,
  "nbformat_minor": 0,
  "metadata": {
    "colab": {
      "name": "Mesh_data_EDA.ipynb",
      "provenance": [],
      "include_colab_link": true
    },
    "kernelspec": {
      "name": "python3",
      "display_name": "Python 3"
    },
    "language_info": {
      "name": "python"
    }
  },
  "cells": [
    {
      "cell_type": "markdown",
      "metadata": {
        "id": "view-in-github",
        "colab_type": "text"
      },
      "source": [
        "<a href=\"https://colab.research.google.com/github/SergeyAnufriev/CFD_unet/blob/main/notebooks/Mesh_data_EDA.ipynb\" target=\"_parent\"><img src=\"https://colab.research.google.com/assets/colab-badge.svg\" alt=\"Open In Colab\"/></a>"
      ]
    },
    {
      "cell_type": "code",
      "execution_count": 6,
      "metadata": {
        "id": "Wt7grlluBD14",
        "colab": {
          "base_uri": "https://localhost:8080/"
        },
        "outputId": "0e4f2008-a614-4106-95ed-f9e999583588"
      },
      "outputs": [
        {
          "output_type": "stream",
          "name": "stdout",
          "text": [
            "Cloning into 'CFD_unet'...\n",
            "remote: Enumerating objects: 366, done.\u001b[K\n",
            "remote: Counting objects: 100% (366/366), done.\u001b[K\n",
            "remote: Compressing objects: 100% (258/258), done.\u001b[K\n",
            "remote: Total 366 (delta 121), reused 336 (delta 101), pack-reused 0\u001b[K\n",
            "Receiving objects: 100% (366/366), 40.98 MiB | 14.33 MiB/s, done.\n",
            "Resolving deltas: 100% (121/121), done.\n",
            "Checking out files: 100% (455/455), done.\n"
          ]
        }
      ],
      "source": [
        "!rm -rf /content/CFD_unet\n",
        "!git clone https://github.com/SergeyAnufriev/CFD_unet.git"
      ]
    },
    {
      "cell_type": "markdown",
      "source": [
        "#This notebook investigates CFD simulation data\n"
      ],
      "metadata": {
        "id": "5FnQNgKcnf8S"
      }
    },
    {
      "cell_type": "code",
      "source": [
        "import pandas as pd\n",
        "import glob\n",
        "import sys "
      ],
      "metadata": {
        "id": "26f9ZMzBnCaQ"
      },
      "execution_count": 1,
      "outputs": []
    },
    {
      "cell_type": "code",
      "source": [
        "sys.path.append('/content/CFD_unet')"
      ],
      "metadata": {
        "id": "nFXFTgJgrx4h"
      },
      "execution_count": 2,
      "outputs": []
    },
    {
      "cell_type": "code",
      "source": [
        "files_c = glob.glob(r'/content/CFD_unet/dataset/*_c.txt')\n",
        "files_n = glob.glob(r'/content/CFD_unet/dataset/*_n.txt')"
      ],
      "metadata": {
        "id": "QfrHoPDRDuWN"
      },
      "execution_count": 7,
      "outputs": []
    },
    {
      "cell_type": "code",
      "source": [
        "def read_file_n(dir_):\n",
        "  df = pd.read_csv(dir_,sep =' ',header=None)\n",
        "  df = df.drop(labels=list(range(1, 15, 2)),axis=1)\n",
        "  df.columns = ['node_num','node_type','x','y','P','u_x','u_y','cav']\n",
        "  df = df.astype({\"P\": float, \"cav\": float})\n",
        "\n",
        "  return df\n"
      ],
      "metadata": {
        "id": "ZUvTg1zfKXg0"
      },
      "execution_count": 4,
      "outputs": []
    },
    {
      "cell_type": "code",
      "source": [
        "df = read_file_n(files_n[17])"
      ],
      "metadata": {
        "id": "n-Ua3XECKlVx"
      },
      "execution_count": 8,
      "outputs": []
    },
    {
      "cell_type": "code",
      "source": [
        "df_total = pd.concat([read_file_n(x) for x in files_n])"
      ],
      "metadata": {
        "id": "1T_OHz59cAxg"
      },
      "execution_count": 9,
      "outputs": []
    },
    {
      "cell_type": "code",
      "source": [
        "df_total['x'].hist(bins=32)"
      ],
      "metadata": {
        "id": "5WLTIHsScSbl",
        "outputId": "551f2c0e-c1f8-4f8f-d03f-169ca2ef62ec",
        "colab": {
          "base_uri": "https://localhost:8080/",
          "height": 284
        }
      },
      "execution_count": 14,
      "outputs": [
        {
          "output_type": "execute_result",
          "data": {
            "text/plain": [
              "<matplotlib.axes._subplots.AxesSubplot at 0x7f222c18d410>"
            ]
          },
          "metadata": {},
          "execution_count": 14
        },
        {
          "output_type": "display_data",
          "data": {
            "image/png": "[encoded data removed]",
            "text/plain": [
              "<Figure size 432x288 with 1 Axes>"
            ]
          },
          "metadata": {
            "needs_background": "light"
          }
        }
      ]
    },
    {
      "cell_type": "code",
      "source": [
        "df_total['y'].hist(bins=32)"
      ],
      "metadata": {
        "id": "2wv-lVh7cXUm",
        "outputId": "916f4be6-d713-479e-96ff-3726b4c43bb9",
        "colab": {
          "base_uri": "https://localhost:8080/",
          "height": 282
        }
      },
      "execution_count": 13,
      "outputs": [
        {
          "output_type": "execute_result",
          "data": {
            "text/plain": [
              "<matplotlib.axes._subplots.AxesSubplot at 0x7f222bd59190>"
            ]
          },
          "metadata": {},
          "execution_count": 13
        },
        {
          "output_type": "display_data",
          "data": {
            "image/png": "[encoded data removed]",
            "text/plain": [
              "<Figure size 432x288 with 1 Axes>"
            ]
          },
          "metadata": {
            "needs_background": "light"
          }
        }
      ]
    },
    {
      "cell_type": "code",
      "source": [
        "import numpy as np"
      ],
      "metadata": {
        "id": "70FdiF8RcmWy"
      },
      "execution_count": 15,
      "outputs": []
    },
    {
      "cell_type": "code",
      "source": [
        "np.var(df_total['x'].values*5.8)"
      ],
      "metadata": {
        "id": "R2HdhPAHcpfN",
        "outputId": "1b07a24c-620e-4035-df99-d52851c80759",
        "colab": {
          "base_uri": "https://localhost:8080/"
        }
      },
      "execution_count": 19,
      "outputs": [
        {
          "output_type": "execute_result",
          "data": {
            "text/plain": [
              "0.9985089213797815"
            ]
          },
          "metadata": {},
          "execution_count": 19
        }
      ]
    },
    {
      "cell_type": "code",
      "source": [
        "np.var(df_total['y'].values*11.4)"
      ],
      "metadata": {
        "id": "5nFHaKk7cwhQ",
        "outputId": "d4e6c23d-0326-4872-a781-7c61bc3ac6c5",
        "colab": {
          "base_uri": "https://localhost:8080/"
        }
      },
      "execution_count": 20,
      "outputs": [
        {
          "output_type": "execute_result",
          "data": {
            "text/plain": [
              "0.9977092690242908"
            ]
          },
          "metadata": {},
          "execution_count": 20
        }
      ]
    },
    {
      "cell_type": "code",
      "source": [
        "import matplotlib.pyplot as plt"
      ],
      "metadata": {
        "id": "BDWRxj1Re0BP"
      },
      "execution_count": 23,
      "outputs": []
    },
    {
      "cell_type": "code",
      "source": [
        "plt.hist(df_total['y'].values*11.4,bins=32)"
      ],
      "metadata": {
        "id": "SX3UzGZqep2s",
        "outputId": "cabc1f5b-7844-4fab-b306-36c44cc214cf",
        "colab": {
          "base_uri": "https://localhost:8080/",
          "height": 473
        }
      },
      "execution_count": 25,
      "outputs": [
        {
          "output_type": "execute_result",
          "data": {
            "text/plain": [
              "(array([ 11771.,   8195.,  10877.,  10281.,  10728.,  12516.,  14304.,\n",
              "         15496.,  18327.,  22350.,  25777.,  31588.,  41869.,  54087.,\n",
              "        101618., 181333., 179396.,  93423.,  51703.,  34121.,  28012.,\n",
              "         22946.,  18029.,  16390.,  15496.,  12516.,  11473.,  11473.,\n",
              "          9685.,   9238.,   8344.,  12218.]),\n",
              " array([-2.85    , -2.671875, -2.49375 , -2.315625, -2.1375  , -1.959375,\n",
              "        -1.78125 , -1.603125, -1.425   , -1.246875, -1.06875 , -0.890625,\n",
              "        -0.7125  , -0.534375, -0.35625 , -0.178125,  0.      ,  0.178125,\n",
              "         0.35625 ,  0.534375,  0.7125  ,  0.890625,  1.06875 ,  1.246875,\n",
              "         1.425   ,  1.603125,  1.78125 ,  1.959375,  2.1375  ,  2.315625,\n",
              "         2.49375 ,  2.671875,  2.85    ]),\n",
              " <a list of 32 Patch objects>)"
            ]
          },
          "metadata": {},
          "execution_count": 25
        },
        {
          "output_type": "display_data",
          "data": {
            "image/png": "[encoded data removed]",
            "text/plain": [
              "<Figure size 432x288 with 1 Axes>"
            ]
          },
          "metadata": {
            "needs_background": "light"
          }
        }
      ]
    },
    {
      "cell_type": "code",
      "source": [
        "files_n[7]"
      ],
      "metadata": {
        "colab": {
          "base_uri": "https://localhost:8080/",
          "height": 36
        },
        "id": "HcGc6XsJcK5Z",
        "outputId": "d6915153-a4d8-488a-e6c4-1953d8c81df3"
      },
      "execution_count": null,
      "outputs": [
        {
          "output_type": "execute_result",
          "data": {
            "application/vnd.google.colaboratory.intrinsic+json": {
              "type": "string"
            },
            "text/plain": [
              "'/content/CFD_unet/dataset/116ah93w174_193_50_11594_459_146_n.txt'"
            ]
          },
          "metadata": {},
          "execution_count": 6
        }
      ]
    },
    {
      "cell_type": "code",
      "source": [
        "df.head()"
      ],
      "metadata": {
        "colab": {
          "base_uri": "https://localhost:8080/",
          "height": 206
        },
        "id": "-0PLVhtiMDVh",
        "outputId": "8405a866-7644-4a10-d0ad-abe0d1e77a21"
      },
      "execution_count": null,
      "outputs": [
        {
          "output_type": "execute_result",
          "data": {
            "text/html": [
              "\n",
              "  <div id=\"df-d17b6613-015a-4aba-94b6-c8cb1bcaa66e\">\n",
              "    <div class=\"colab-df-container\">\n",
              "      <div>\n",
              "<style scoped>\n",
              "    .dataframe tbody tr th:only-of-type {\n",
              "        vertical-align: middle;\n",
              "    }\n",
              "\n",
              "    .dataframe tbody tr th {\n",
              "        vertical-align: top;\n",
              "    }\n",
              "\n",
              "    .dataframe thead th {\n",
              "        text-align: right;\n",
              "    }\n",
              "</style>\n",
              "<table border=\"1\" class=\"dataframe\">\n",
              "  <thead>\n",
              "    <tr style=\"text-align: right;\">\n",
              "      <th></th>\n",
              "      <th>node_num</th>\n",
              "      <th>node_type</th>\n",
              "      <th>x</th>\n",
              "      <th>y</th>\n",
              "      <th>P</th>\n",
              "      <th>u_x</th>\n",
              "      <th>u_y</th>\n",
              "      <th>cav</th>\n",
              "    </tr>\n",
              "  </thead>\n",
              "  <tbody>\n",
              "    <tr>\n",
              "      <th>0</th>\n",
              "      <td>0</td>\n",
              "      <td>2</td>\n",
              "      <td>0.115</td>\n",
              "      <td>0.000182</td>\n",
              "      <td>42400.0</td>\n",
              "      <td>0.00000</td>\n",
              "      <td>0.000000</td>\n",
              "      <td>1.0</td>\n",
              "    </tr>\n",
              "    <tr>\n",
              "      <th>1</th>\n",
              "      <td>1</td>\n",
              "      <td>1</td>\n",
              "      <td>0.500</td>\n",
              "      <td>0.250000</td>\n",
              "      <td>42400.0</td>\n",
              "      <td>1.94752</td>\n",
              "      <td>-0.455176</td>\n",
              "      <td>1.0</td>\n",
              "    </tr>\n",
              "    <tr>\n",
              "      <th>2</th>\n",
              "      <td>2</td>\n",
              "      <td>1</td>\n",
              "      <td>0.500</td>\n",
              "      <td>-0.250000</td>\n",
              "      <td>42400.0</td>\n",
              "      <td>1.94752</td>\n",
              "      <td>-0.455176</td>\n",
              "      <td>1.0</td>\n",
              "    </tr>\n",
              "    <tr>\n",
              "      <th>3</th>\n",
              "      <td>3</td>\n",
              "      <td>3</td>\n",
              "      <td>-0.500</td>\n",
              "      <td>-0.250000</td>\n",
              "      <td>42400.0</td>\n",
              "      <td>1.94752</td>\n",
              "      <td>-0.455176</td>\n",
              "      <td>1.0</td>\n",
              "    </tr>\n",
              "    <tr>\n",
              "      <th>4</th>\n",
              "      <td>4</td>\n",
              "      <td>3</td>\n",
              "      <td>-0.500</td>\n",
              "      <td>0.250000</td>\n",
              "      <td>42400.0</td>\n",
              "      <td>1.94752</td>\n",
              "      <td>-0.455176</td>\n",
              "      <td>1.0</td>\n",
              "    </tr>\n",
              "  </tbody>\n",
              "</table>\n",
              "</div>\n",
              "      <button class=\"colab-df-convert\" onclick=\"convertToInteractive('df-d17b6613-015a-4aba-94b6-c8cb1bcaa66e')\"\n",
              "              title=\"Convert this dataframe to an interactive table.\"\n",
              "              style=\"display:none;\">\n",
              "        \n",
              "  <svg xmlns=\"http://www.w3.org/2000/svg\" height=\"24px\"viewBox=\"0 0 24 24\"\n",
              "       width=\"24px\">\n",
              "    <path d=\"M0 0h24v24H0V0z\" fill=\"none\"/>\n",
              "    <path d=\"M18.56 5.44l.94 2.06.94-2.06 2.06-.94-2.06-.94-.94-2.06-.94 2.06-2.06.94zm-11 1L8.5 8.5l.94-2.06 2.06-.94-2.06-.94L8.5 2.5l-.94 2.06-2.06.94zm10 10l.94 2.06.94-2.06 2.06-.94-2.06-.94-.94-2.06-.94 2.06-2.06.94z\"/><path d=\"M17.41 7.96l-1.37-1.37c-.4-.4-.92-.59-1.43-.59-.52 0-1.04.2-1.43.59L10.3 9.45l-7.72 7.72c-.78.78-.78 2.05 0 2.83L4 21.41c.39.39.9.59 1.41.59.51 0 1.02-.2 1.41-.59l7.78-7.78 2.81-2.81c.8-.78.8-2.07 0-2.86zM5.41 20L4 18.59l7.72-7.72 1.47 1.35L5.41 20z\"/>\n",
              "  </svg>\n",
              "      </button>\n",
              "      \n",
              "  <style>\n",
              "    .colab-df-container {\n",
              "      display:flex;\n",
              "      flex-wrap:wrap;\n",
              "      gap: 12px;\n",
              "    }\n",
              "\n",
              "    .colab-df-convert {\n",
              "      background-color: #E8F0FE;\n",
              "      border: none;\n",
              "      border-radius: 50%;\n",
              "      cursor: pointer;\n",
              "      display: none;\n",
              "      fill: #1967D2;\n",
              "      height: 32px;\n",
              "      padding: 0 0 0 0;\n",
              "      width: 32px;\n",
              "    }\n",
              "\n",
              "    .colab-df-convert:hover {\n",
              "      background-color: #E2EBFA;\n",
              "      box-shadow: 0px 1px 2px rgba(60, 64, 67, 0.3), 0px 1px 3px 1px rgba(60, 64, 67, 0.15);\n",
              "      fill: #174EA6;\n",
              "    }\n",
              "\n",
              "    [theme=dark] .colab-df-convert {\n",
              "      background-color: #3B4455;\n",
              "      fill: #D2E3FC;\n",
              "    }\n",
              "\n",
              "    [theme=dark] .colab-df-convert:hover {\n",
              "      background-color: #434B5C;\n",
              "      box-shadow: 0px 1px 3px 1px rgba(0, 0, 0, 0.15);\n",
              "      filter: drop-shadow(0px 1px 2px rgba(0, 0, 0, 0.3));\n",
              "      fill: #FFFFFF;\n",
              "    }\n",
              "  </style>\n",
              "\n",
              "      <script>\n",
              "        const buttonEl =\n",
              "          document.querySelector('#df-d17b6613-015a-4aba-94b6-c8cb1bcaa66e button.colab-df-convert');\n",
              "        buttonEl.style.display =\n",
              "          google.colab.kernel.accessAllowed ? 'block' : 'none';\n",
              "\n",
              "        async function convertToInteractive(key) {\n",
              "          const element = document.querySelector('#df-d17b6613-015a-4aba-94b6-c8cb1bcaa66e');\n",
              "          const dataTable =\n",
              "            await google.colab.kernel.invokeFunction('convertToInteractive',\n",
              "                                                     [key], {});\n",
              "          if (!dataTable) return;\n",
              "\n",
              "          const docLinkHtml = 'Like what you see? Visit the ' +\n",
              "            '<a target=\"_blank\" href=https://colab.research.google.com/notebooks/data_table.ipynb>data table notebook</a>'\n",
              "            + ' to learn more about interactive tables.';\n",
              "          element.innerHTML = '';\n",
              "          dataTable['output_type'] = 'display_data';\n",
              "          await google.colab.output.renderOutput(dataTable, element);\n",
              "          const docLink = document.createElement('div');\n",
              "          docLink.innerHTML = docLinkHtml;\n",
              "          element.appendChild(docLink);\n",
              "        }\n",
              "      </script>\n",
              "    </div>\n",
              "  </div>\n",
              "  "
            ],
            "text/plain": [
              "   node_num  node_type      x         y        P      u_x       u_y  cav\n",
              "0         0          2  0.115  0.000182  42400.0  0.00000  0.000000  1.0\n",
              "1         1          1  0.500  0.250000  42400.0  1.94752 -0.455176  1.0\n",
              "2         2          1  0.500 -0.250000  42400.0  1.94752 -0.455176  1.0\n",
              "3         3          3 -0.500 -0.250000  42400.0  1.94752 -0.455176  1.0\n",
              "4         4          3 -0.500  0.250000  42400.0  1.94752 -0.455176  1.0"
            ]
          },
          "metadata": {},
          "execution_count": 7
        }
      ]
    },
    {
      "cell_type": "code",
      "source": [
        ""
      ],
      "metadata": {
        "id": "xMo_VWTsrfrY"
      },
      "execution_count": null,
      "outputs": []
    },
    {
      "cell_type": "code",
      "source": [
        "df['cav'].value_counts()"
      ],
      "metadata": {
        "colab": {
          "base_uri": "https://localhost:8080/"
        },
        "id": "Tl4ilQJQYBip",
        "outputId": "db821f56-0e20-44bb-a4c0-70ee4c65ac75"
      },
      "execution_count": null,
      "outputs": [
        {
          "output_type": "execute_result",
          "data": {
            "text/plain": [
              "1.0    7420\n",
              "Name: cav, dtype: int64"
            ]
          },
          "metadata": {},
          "execution_count": 38
        }
      ]
    },
    {
      "cell_type": "code",
      "source": [
        "len(df['P'].value_counts())"
      ],
      "metadata": {
        "colab": {
          "base_uri": "https://localhost:8080/"
        },
        "id": "XsCyUMdXTDyB",
        "outputId": "46d8458e-b264-4e3d-f3a7-1ebab0f1aff7"
      },
      "execution_count": null,
      "outputs": [
        {
          "output_type": "execute_result",
          "data": {
            "text/plain": [
              "1"
            ]
          },
          "metadata": {},
          "execution_count": 45
        }
      ]
    },
    {
      "cell_type": "code",
      "source": [
        "flies_repeat = []\n",
        "\n",
        "count = 0\n",
        "for file_ in files_n:\n",
        "  df = read_file_n(file_)\n",
        "  if len(df['P'].value_counts()) ==1:\n",
        "    count+=1\n",
        "    flies_repeat.append(file_.split('/')[-1])"
      ],
      "metadata": {
        "id": "VhlHNgnxTPaA"
      },
      "execution_count": null,
      "outputs": []
    },
    {
      "cell_type": "code",
      "source": [
        "flies_repeat"
      ],
      "metadata": {
        "colab": {
          "base_uri": "https://localhost:8080/"
        },
        "id": "E_OV8g1gcyUK",
        "outputId": "dd1a8fa4-93d8-4d35-e437-d7f87b005754"
      },
      "execution_count": null,
      "outputs": [
        {
          "output_type": "execute_result",
          "data": {
            "text/plain": [
              "['17ag12_196_-39_13723_566_-114_n.txt',\n",
              " '12e591_196_-36_16594_709_-104_n.txt',\n",
              " '14e343_196_-35_11131_436_-102_n.txt',\n",
              " '24naca0015_199_-17_10813_420_-49_n.txt',\n",
              " '31ag16_198_24_12342_497_68_n.txt',\n",
              " '126e379_198_25_14836_621_72_n.txt',\n",
              " '80e178_194_-45_17719_765_-131_n.txt',\n",
              " '27e544_195_-42_11879_473_-122_n.txt',\n",
              " '122e562_198_-22_11051_432_-65_n.txt',\n",
              " '46c5a_198_-22_12317_495_-65_n.txt',\n",
              " '3e387_198_-20_11678_463_-58_n.txt',\n",
              " '52arad20_194_-44_17170_738_-128_n.txt',\n",
              " '115ah81131_195_-41_12098_484_-120_n.txt',\n",
              " '117e377_198_23_14434_601_66_n.txt',\n",
              " '107e1213_195_-43_17121_736_-126_n.txt',\n",
              " '95clarym15_198_27_15667_663_77_n.txt',\n",
              " '116ah93w174_193_50_11594_459_146_n.txt',\n",
              " '96e182_194_-48_17822_771_-138_n.txt',\n",
              " '124b737a_196_-37_16131_686_-108_n.txt',\n",
              " '68e377_198_-23_10953_427_-68_n.txt',\n",
              " '108e668_195_42_10538_406_123_n.txt',\n",
              " '111dae21_194_47_11680_464_137_n.txt',\n",
              " '65e205_198_-25_11571_458_-74_n.txt',\n",
              " '127atr72sm_199_-17_11176_438_-51_n.txt',\n",
              " '128ag16_194_-45_11954_477_-131_n.txt',\n",
              " '94e377_195_42_10561_408_122_n.txt',\n",
              " '67e216_196_-38_15746_667_-112_n.txt',\n",
              " '120e209_196_-37_13007_530_-108_n.txt',\n",
              " '83e546_198_25_14996_629_73_n.txt',\n",
              " '13e176_197_34_16407_700_99_n.txt',\n",
              " '105b29tip_197_-33_17291_744_-95_n.txt',\n",
              " '104e556_193_-50_15164_638_-145_n.txt',\n",
              " '30e1233_197_31_12372_498_91_n.txt',\n",
              " '102e328_195_40_10731_416_116_n.txt',\n",
              " '100c5d_194_47_18178_788_137_n.txt',\n",
              " '76df102_197_31_17343_747_89_n.txt',\n",
              " '58e407_198_-22_10435_401_-63_n.txt',\n",
              " '59c5e_196_-36_16885_724_-104_n.txt',\n",
              " '135ah79100c_193_50_14259_592_146_n.txt',\n",
              " '136e1233_194_46_18257_792_134_n.txt',\n",
              " '88df101_195_-44_14946_627_-127_n.txt',\n",
              " '131cap21c_198_-28_15616_660_-80_n.txt',\n",
              " '132e423_195_-42_12309_495_-123_n.txt',\n",
              " '91ag11_199_-15_10580_409_-44_n.txt',\n",
              " '612032c_199_17_11213_440_51_n.txt',\n",
              " '133e580_194_-48_12075_483_-138_n.txt',\n",
              " '62e330_196_38_17242_742_111_n.txt',\n",
              " '51clarkv_194_-46_12507_505_-133_n.txt',\n",
              " '9ag10_196_-38_13467_553_-111_n.txt',\n",
              " '72e479_196_-37_10521_406_-108_n.txt',\n",
              " '50e551_197_34_12101_485_98_n.txt',\n",
              " '84cast102_193_49_12006_480_143_n.txt',\n",
              " '86curtisc72_199_13_10650_412_39_n.txt',\n",
              " '4e559_196_-39_12021_481_-114_n.txt',\n",
              " '125ah21-9_193_-48_13073_533_-141_n.txt',\n",
              " '48ag35_197_-31_15754_667_-91_n.txt',\n",
              " '35e548_194_47_14220_591_138_n.txt',\n",
              " '36c5d_195_-43_18080_784_-125_n.txt',\n",
              " '139du8608418_198_27_11031_431_78_n.txt',\n",
              " '138c141b_196_36_11028_431_104_n.txt',\n",
              " '20boe103_197_30_14579_608_88_n.txt',\n",
              " '34dfvlrr4_194_-46_10513_405_-133_n.txt',\n",
              " '90e340_199_-12_10871_423_-34_n.txt',\n",
              " '149ag45ct02r_198_-25_13045_532_-73_n.txt',\n",
              " '147e332_193_51_10699_414_147_n.txt',\n",
              " '150clarkw_193_-49_12121_486_-142_n.txt',\n",
              " '145e817_196_37_11074_433_106_n.txt',\n",
              " '142daytonwright6_199_0_11286_444_2_n.txt']"
            ]
          },
          "metadata": {},
          "execution_count": 59
        }
      ]
    },
    {
      "cell_type": "code",
      "source": [
        "count"
      ],
      "metadata": {
        "colab": {
          "base_uri": "https://localhost:8080/"
        },
        "id": "w4_xJwICTm8h",
        "outputId": "13bd9f7f-fb84-4745-b3ed-44b15b197ee8"
      },
      "execution_count": null,
      "outputs": [
        {
          "output_type": "execute_result",
          "data": {
            "text/plain": [
              "68"
            ]
          },
          "metadata": {},
          "execution_count": 26
        }
      ]
    },
    {
      "cell_type": "code",
      "source": [
        "len(files_n)"
      ],
      "metadata": {
        "colab": {
          "base_uri": "https://localhost:8080/"
        },
        "id": "9qpCtOfETp5s",
        "outputId": "6ea6e391-bbe4-4f33-e8fc-e1b6f05dd0d3"
      },
      "execution_count": null,
      "outputs": [
        {
          "output_type": "execute_result",
          "data": {
            "text/plain": [
              "149"
            ]
          },
          "metadata": {},
          "execution_count": 27
        }
      ]
    },
    {
      "cell_type": "code",
      "source": [
        "68/149"
      ],
      "metadata": {
        "colab": {
          "base_uri": "https://localhost:8080/"
        },
        "id": "br-XRbYjT-HU",
        "outputId": "f78bedbf-9f1b-4ceb-b423-e405bab09826"
      },
      "execution_count": null,
      "outputs": [
        {
          "output_type": "execute_result",
          "data": {
            "text/plain": [
              "0.4563758389261745"
            ]
          },
          "metadata": {},
          "execution_count": 28
        }
      ]
    },
    {
      "cell_type": "code",
      "source": [
        "files_n[7]"
      ],
      "metadata": {
        "id": "PVRaXz5uQYMJ",
        "outputId": "39b5064d-9e7d-4852-9c7a-69f7a44c0bd2",
        "colab": {
          "base_uri": "https://localhost:8080/",
          "height": 36
        }
      },
      "execution_count": null,
      "outputs": [
        {
          "output_type": "execute_result",
          "data": {
            "application/vnd.google.colaboratory.intrinsic+json": {
              "type": "string"
            },
            "text/plain": [
              "'/content/gdrive/MyDrive/cfd_data_mesh/27e544_195_-42_11879_473_-122_n.txt'"
            ]
          },
          "metadata": {},
          "execution_count": 18
        }
      ]
    },
    {
      "cell_type": "code",
      "source": [
        "df['u_y'].hist(bins=20)"
      ],
      "metadata": {
        "colab": {
          "base_uri": "https://localhost:8080/",
          "height": 282
        },
        "id": "Mt7X63kZwJ-c",
        "outputId": "cc280fc6-5a63-4ac9-d1a6-4d96b90f2f5e"
      },
      "execution_count": null,
      "outputs": [
        {
          "output_type": "execute_result",
          "data": {
            "text/plain": [
              "<matplotlib.axes._subplots.AxesSubplot at 0x7fc1057fc150>"
            ]
          },
          "metadata": {},
          "execution_count": 40
        },
        {
          "output_type": "display_data",
          "data": {
            "image/png": "[encoded data removed]",
            "text/plain": [
              "<Figure size 432x288 with 1 Axes>"
            ]
          },
          "metadata": {
            "needs_background": "light"
          }
        }
      ]
    },
    {
      "cell_type": "code",
      "source": [
        "df['u_x'].hist(bins=20)"
      ],
      "metadata": {
        "colab": {
          "base_uri": "https://localhost:8080/",
          "height": 282
        },
        "id": "0cx6AxSLwGji",
        "outputId": "9fe73a83-9f2c-47f0-9841-e3662dd814fc"
      },
      "execution_count": null,
      "outputs": [
        {
          "output_type": "execute_result",
          "data": {
            "text/plain": [
              "<matplotlib.axes._subplots.AxesSubplot at 0x7fc1056ed890>"
            ]
          },
          "metadata": {},
          "execution_count": 41
        },
        {
          "output_type": "display_data",
          "data": {
            "image/png": "[encoded data removed]",
            "text/plain": [
              "<Figure size 432x288 with 1 Axes>"
            ]
          },
          "metadata": {
            "needs_background": "light"
          }
        }
      ]
    },
    {
      "cell_type": "code",
      "source": [
        "df['P'].hist(bins=20)"
      ],
      "metadata": {
        "id": "P95gvCbtO0X1",
        "colab": {
          "base_uri": "https://localhost:8080/",
          "height": 283
        },
        "outputId": "6ee2ad75-7233-4a88-c769-1b83098b67bd"
      },
      "execution_count": null,
      "outputs": [
        {
          "output_type": "execute_result",
          "data": {
            "text/plain": [
              "<matplotlib.axes._subplots.AxesSubplot at 0x7fc105698310>"
            ]
          },
          "metadata": {},
          "execution_count": 42
        },
        {
          "output_type": "display_data",
          "data": {
            "image/png": "[encoded data removed]",
            "text/plain": [
              "<Figure size 432x288 with 1 Axes>"
            ]
          },
          "metadata": {
            "needs_background": "light"
          }
        }
      ]
    }
  ]
}