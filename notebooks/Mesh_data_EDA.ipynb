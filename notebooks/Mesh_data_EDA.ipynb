{
  "nbformat": 4,
  "nbformat_minor": 0,
  "metadata": {
    "colab": {
      "name": "Mesh_data_EDA.ipynb",
      "provenance": [],
      "include_colab_link": true
    },
    "kernelspec": {
      "name": "python3",
      "display_name": "Python 3"
    },
    "language_info": {
      "name": "python"
    }
  },
  "cells": [
    {
      "cell_type": "markdown",
      "metadata": {
        "id": "view-in-github",
        "colab_type": "text"
      },
      "source": [
        "<a href=\"https://colab.research.google.com/github/SergeyAnufriev/CFD_unet/blob/main/notebooks/Mesh_data_EDA.ipynb\" target=\"_parent\"><img src=\"https://colab.research.google.com/assets/colab-badge.svg\" alt=\"Open In Colab\"/></a>"
      ]
    },
    {
      "cell_type": "code",
      "execution_count": 1,
      "metadata": {
        "id": "Wt7grlluBD14",
        "colab": {
          "base_uri": "https://localhost:8080/"
        },
        "outputId": "aea76969-82f8-42d7-abd9-9a0c0e70146c"
      },
      "outputs": [
        {
          "output_type": "stream",
          "name": "stdout",
          "text": [
            "Cloning into 'CFD_unet'...\n",
            "remote: Enumerating objects: 585, done.\u001b[K\n",
            "remote: Counting objects: 100% (585/585), done.\u001b[K\n",
            "remote: Compressing objects: 100% (415/415), done.\u001b[K\n",
            "remote: Total 585 (delta 224), reused 506 (delta 161), pack-reused 0\u001b[K\n",
            "Receiving objects: 100% (585/585), 85.27 MiB | 18.45 MiB/s, done.\n",
            "Resolving deltas: 100% (224/224), done.\n",
            "Checking out files: 100% (305/305), done.\n"
          ]
        }
      ],
      "source": [
        "!rm -rf /content/CFD_unet\n",
        "!git clone https://github.com/SergeyAnufriev/CFD_unet.git"
      ]
    },
    {
      "cell_type": "markdown",
      "source": [
        "#This notebook investigates CFD simulation data\n"
      ],
      "metadata": {
        "id": "5FnQNgKcnf8S"
      }
    },
    {
      "cell_type": "code",
      "source": [
        "import pandas as pd\n",
        "import glob\n",
        "import sys \n",
        "import numpy as np\n",
        "import matplotlib.pyplot as plt"
      ],
      "metadata": {
        "id": "26f9ZMzBnCaQ"
      },
      "execution_count": 2,
      "outputs": []
    },
    {
      "cell_type": "code",
      "source": [
        "sys.path.append('/content/CFD_unet')"
      ],
      "metadata": {
        "id": "nFXFTgJgrx4h"
      },
      "execution_count": 3,
      "outputs": []
    },
    {
      "cell_type": "code",
      "source": [
        "files_c = glob.glob(r'/content/CFD_unet/dataset/*_c.txt')\n",
        "files_n = glob.glob(r'/content/CFD_unet/dataset/*_n.txt')"
      ],
      "metadata": {
        "id": "QfrHoPDRDuWN"
      },
      "execution_count": 4,
      "outputs": []
    },
    {
      "cell_type": "code",
      "source": [
        "len(files_n), len(files_c)"
      ],
      "metadata": {
        "id": "ERd-1iRCiUiO",
        "outputId": "725770b7-a38d-4802-e312-b17f6c0a886c",
        "colab": {
          "base_uri": "https://localhost:8080/"
        }
      },
      "execution_count": 5,
      "outputs": [
        {
          "output_type": "execute_result",
          "data": {
            "text/plain": [
              "(99, 99)"
            ]
          },
          "metadata": {},
          "execution_count": 5
        }
      ]
    },
    {
      "cell_type": "code",
      "source": [
        "def read_file_n(dir_):\n",
        "  df = pd.read_csv(dir_,sep =' ',header=None)\n",
        "  df = df.drop(labels=list(range(1, 15, 2)),axis=1)\n",
        "  df.columns = ['node_num','node_type','x','y','P','u_x','u_y','cav']\n",
        "  df = df.astype({\"P\": float, \"cav\": float})\n",
        "\n",
        "  return df\n"
      ],
      "metadata": {
        "id": "ZUvTg1zfKXg0"
      },
      "execution_count": 6,
      "outputs": []
    },
    {
      "cell_type": "code",
      "source": [
        "df = read_file_n(files_n[17])"
      ],
      "metadata": {
        "id": "n-Ua3XECKlVx"
      },
      "execution_count": 7,
      "outputs": []
    },
    {
      "cell_type": "code",
      "source": [
        "df.head(10)"
      ],
      "metadata": {
        "id": "Ea_hLHfphj23",
        "outputId": "fa29a3e7-a584-4ec2-a2e5-10725e45ee49",
        "colab": {
          "base_uri": "https://localhost:8080/",
          "height": 362
        }
      },
      "execution_count": 8,
      "outputs": [
        {
          "output_type": "execute_result",
          "data": {
            "text/plain": [
              "   node_num  node_type      x         y        P      u_x       u_y  cav\n",
              "0         0          2  0.115  0.000182  15996.0  0.00000  0.000000  1.0\n",
              "1         1          1  0.500  0.250000  17102.4  1.96787 -0.365762  1.0\n",
              "2         2          1  0.500 -0.250000  17106.0  1.93894 -0.380014  1.0\n",
              "3         3          3 -0.500 -0.250000  17059.3  1.96634 -0.365705  1.0\n",
              "4         4          3 -0.500  0.250000  17111.9  1.96629 -0.365679  1.0\n",
              "5        10          1  0.500  0.230000  17101.5  1.97164 -0.365630  1.0\n",
              "6        11          1  0.500  0.210000  17101.5  1.97808 -0.365503  1.0\n",
              "7        12          1  0.500  0.190000  17101.5  1.98637 -0.365828  1.0\n",
              "8        13          1  0.500  0.170000  17101.5  1.99354 -0.366142  1.0\n",
              "9        14          1  0.500  0.150000  17101.5  1.99753 -0.365603  1.0"
            ],
            "text/html": [
              "\n",
              "  <div id=\"df-62cfda78-9241-4ba8-894e-2c57a047b56d\">\n",
              "    <div class=\"colab-df-container\">\n",
              "      <div>\n",
              "<style scoped>\n",
              "    .dataframe tbody tr th:only-of-type {\n",
              "        vertical-align: middle;\n",
              "    }\n",
              "\n",
              "    .dataframe tbody tr th {\n",
              "        vertical-align: top;\n",
              "    }\n",
              "\n",
              "    .dataframe thead th {\n",
              "        text-align: right;\n",
              "    }\n",
              "</style>\n",
              "<table border=\"1\" class=\"dataframe\">\n",
              "  <thead>\n",
              "    <tr style=\"text-align: right;\">\n",
              "      <th></th>\n",
              "      <th>node_num</th>\n",
              "      <th>node_type</th>\n",
              "      <th>x</th>\n",
              "      <th>y</th>\n",
              "      <th>P</th>\n",
              "      <th>u_x</th>\n",
              "      <th>u_y</th>\n",
              "      <th>cav</th>\n",
              "    </tr>\n",
              "  </thead>\n",
              "  <tbody>\n",
              "    <tr>\n",
              "      <th>0</th>\n",
              "      <td>0</td>\n",
              "      <td>2</td>\n",
              "      <td>0.115</td>\n",
              "      <td>0.000182</td>\n",
              "      <td>15996.0</td>\n",
              "      <td>0.00000</td>\n",
              "      <td>0.000000</td>\n",
              "      <td>1.0</td>\n",
              "    </tr>\n",
              "    <tr>\n",
              "      <th>1</th>\n",
              "      <td>1</td>\n",
              "      <td>1</td>\n",
              "      <td>0.500</td>\n",
              "      <td>0.250000</td>\n",
              "      <td>17102.4</td>\n",
              "      <td>1.96787</td>\n",
              "      <td>-0.365762</td>\n",
              "      <td>1.0</td>\n",
              "    </tr>\n",
              "    <tr>\n",
              "      <th>2</th>\n",
              "      <td>2</td>\n",
              "      <td>1</td>\n",
              "      <td>0.500</td>\n",
              "      <td>-0.250000</td>\n",
              "      <td>17106.0</td>\n",
              "      <td>1.93894</td>\n",
              "      <td>-0.380014</td>\n",
              "      <td>1.0</td>\n",
              "    </tr>\n",
              "    <tr>\n",
              "      <th>3</th>\n",
              "      <td>3</td>\n",
              "      <td>3</td>\n",
              "      <td>-0.500</td>\n",
              "      <td>-0.250000</td>\n",
              "      <td>17059.3</td>\n",
              "      <td>1.96634</td>\n",
              "      <td>-0.365705</td>\n",
              "      <td>1.0</td>\n",
              "    </tr>\n",
              "    <tr>\n",
              "      <th>4</th>\n",
              "      <td>4</td>\n",
              "      <td>3</td>\n",
              "      <td>-0.500</td>\n",
              "      <td>0.250000</td>\n",
              "      <td>17111.9</td>\n",
              "      <td>1.96629</td>\n",
              "      <td>-0.365679</td>\n",
              "      <td>1.0</td>\n",
              "    </tr>\n",
              "    <tr>\n",
              "      <th>5</th>\n",
              "      <td>10</td>\n",
              "      <td>1</td>\n",
              "      <td>0.500</td>\n",
              "      <td>0.230000</td>\n",
              "      <td>17101.5</td>\n",
              "      <td>1.97164</td>\n",
              "      <td>-0.365630</td>\n",
              "      <td>1.0</td>\n",
              "    </tr>\n",
              "    <tr>\n",
              "      <th>6</th>\n",
              "      <td>11</td>\n",
              "      <td>1</td>\n",
              "      <td>0.500</td>\n",
              "      <td>0.210000</td>\n",
              "      <td>17101.5</td>\n",
              "      <td>1.97808</td>\n",
              "      <td>-0.365503</td>\n",
              "      <td>1.0</td>\n",
              "    </tr>\n",
              "    <tr>\n",
              "      <th>7</th>\n",
              "      <td>12</td>\n",
              "      <td>1</td>\n",
              "      <td>0.500</td>\n",
              "      <td>0.190000</td>\n",
              "      <td>17101.5</td>\n",
              "      <td>1.98637</td>\n",
              "      <td>-0.365828</td>\n",
              "      <td>1.0</td>\n",
              "    </tr>\n",
              "    <tr>\n",
              "      <th>8</th>\n",
              "      <td>13</td>\n",
              "      <td>1</td>\n",
              "      <td>0.500</td>\n",
              "      <td>0.170000</td>\n",
              "      <td>17101.5</td>\n",
              "      <td>1.99354</td>\n",
              "      <td>-0.366142</td>\n",
              "      <td>1.0</td>\n",
              "    </tr>\n",
              "    <tr>\n",
              "      <th>9</th>\n",
              "      <td>14</td>\n",
              "      <td>1</td>\n",
              "      <td>0.500</td>\n",
              "      <td>0.150000</td>\n",
              "      <td>17101.5</td>\n",
              "      <td>1.99753</td>\n",
              "      <td>-0.365603</td>\n",
              "      <td>1.0</td>\n",
              "    </tr>\n",
              "  </tbody>\n",
              "</table>\n",
              "</div>\n",
              "      <button class=\"colab-df-convert\" onclick=\"convertToInteractive('df-62cfda78-9241-4ba8-894e-2c57a047b56d')\"\n",
              "              title=\"Convert this dataframe to an interactive table.\"\n",
              "              style=\"display:none;\">\n",
              "        \n",
              "  <svg xmlns=\"http://www.w3.org/2000/svg\" height=\"24px\"viewBox=\"0 0 24 24\"\n",
              "       width=\"24px\">\n",
              "    <path d=\"M0 0h24v24H0V0z\" fill=\"none\"/>\n",
              "    <path d=\"M18.56 5.44l.94 2.06.94-2.06 2.06-.94-2.06-.94-.94-2.06-.94 2.06-2.06.94zm-11 1L8.5 8.5l.94-2.06 2.06-.94-2.06-.94L8.5 2.5l-.94 2.06-2.06.94zm10 10l.94 2.06.94-2.06 2.06-.94-2.06-.94-.94-2.06-.94 2.06-2.06.94z\"/><path d=\"M17.41 7.96l-1.37-1.37c-.4-.4-.92-.59-1.43-.59-.52 0-1.04.2-1.43.59L10.3 9.45l-7.72 7.72c-.78.78-.78 2.05 0 2.83L4 21.41c.39.39.9.59 1.41.59.51 0 1.02-.2 1.41-.59l7.78-7.78 2.81-2.81c.8-.78.8-2.07 0-2.86zM5.41 20L4 18.59l7.72-7.72 1.47 1.35L5.41 20z\"/>\n",
              "  </svg>\n",
              "      </button>\n",
              "      \n",
              "  <style>\n",
              "    .colab-df-container {\n",
              "      display:flex;\n",
              "      flex-wrap:wrap;\n",
              "      gap: 12px;\n",
              "    }\n",
              "\n",
              "    .colab-df-convert {\n",
              "      background-color: #E8F0FE;\n",
              "      border: none;\n",
              "      border-radius: 50%;\n",
              "      cursor: pointer;\n",
              "      display: none;\n",
              "      fill: #1967D2;\n",
              "      height: 32px;\n",
              "      padding: 0 0 0 0;\n",
              "      width: 32px;\n",
              "    }\n",
              "\n",
              "    .colab-df-convert:hover {\n",
              "      background-color: #E2EBFA;\n",
              "      box-shadow: 0px 1px 2px rgba(60, 64, 67, 0.3), 0px 1px 3px 1px rgba(60, 64, 67, 0.15);\n",
              "      fill: #174EA6;\n",
              "    }\n",
              "\n",
              "    [theme=dark] .colab-df-convert {\n",
              "      background-color: #3B4455;\n",
              "      fill: #D2E3FC;\n",
              "    }\n",
              "\n",
              "    [theme=dark] .colab-df-convert:hover {\n",
              "      background-color: #434B5C;\n",
              "      box-shadow: 0px 1px 3px 1px rgba(0, 0, 0, 0.15);\n",
              "      filter: drop-shadow(0px 1px 2px rgba(0, 0, 0, 0.3));\n",
              "      fill: #FFFFFF;\n",
              "    }\n",
              "  </style>\n",
              "\n",
              "      <script>\n",
              "        const buttonEl =\n",
              "          document.querySelector('#df-62cfda78-9241-4ba8-894e-2c57a047b56d button.colab-df-convert');\n",
              "        buttonEl.style.display =\n",
              "          google.colab.kernel.accessAllowed ? 'block' : 'none';\n",
              "\n",
              "        async function convertToInteractive(key) {\n",
              "          const element = document.querySelector('#df-62cfda78-9241-4ba8-894e-2c57a047b56d');\n",
              "          const dataTable =\n",
              "            await google.colab.kernel.invokeFunction('convertToInteractive',\n",
              "                                                     [key], {});\n",
              "          if (!dataTable) return;\n",
              "\n",
              "          const docLinkHtml = 'Like what you see? Visit the ' +\n",
              "            '<a target=\"_blank\" href=https://colab.research.google.com/notebooks/data_table.ipynb>data table notebook</a>'\n",
              "            + ' to learn more about interactive tables.';\n",
              "          element.innerHTML = '';\n",
              "          dataTable['output_type'] = 'display_data';\n",
              "          await google.colab.output.renderOutput(dataTable, element);\n",
              "          const docLink = document.createElement('div');\n",
              "          docLink.innerHTML = docLinkHtml;\n",
              "          element.appendChild(docLink);\n",
              "        }\n",
              "      </script>\n",
              "    </div>\n",
              "  </div>\n",
              "  "
            ]
          },
          "metadata": {},
          "execution_count": 8
        }
      ]
    },
    {
      "cell_type": "code",
      "source": [
        "len(df)"
      ],
      "metadata": {
        "id": "wWuL4H5chs9O",
        "outputId": "acb1a703-b509-464b-c3a1-332b94b553d7",
        "colab": {
          "base_uri": "https://localhost:8080/"
        }
      },
      "execution_count": null,
      "outputs": [
        {
          "output_type": "execute_result",
          "data": {
            "text/plain": [
              "7420"
            ]
          },
          "metadata": {},
          "execution_count": 11
        }
      ]
    },
    {
      "cell_type": "code",
      "source": [
        "fig, axs = plt.subplots(1, 3,figsize=(15,5))\n",
        "\n",
        "axs[0].hist(df['P'].values)\n",
        "axs[0].set_title('P')\n",
        "axs[1].hist(df['u_x'].values)\n",
        "axs[1].set_title('u_x')\n",
        "axs[2].hist(df['u_y'].values)\n",
        "axs[2].set_title('u_y')"
      ],
      "metadata": {
        "id": "jk2OIfEPwLKu",
        "outputId": "a72e3881-8a49-4925-f139-9bcf3dc53be0",
        "colab": {
          "base_uri": "https://localhost:8080/",
          "height": 353
        }
      },
      "execution_count": 11,
      "outputs": [
        {
          "output_type": "execute_result",
          "data": {
            "text/plain": [
              "Text(0.5, 1.0, 'u_y')"
            ]
          },
          "metadata": {},
          "execution_count": 11
        },
        {
          "output_type": "display_data",
          "data": {
            "text/plain": [
              "<Figure size 1080x360 with 3 Axes>"
            ],
            "image/png": "[encoded data removed]"
          },
          "metadata": {
            "needs_background": "light"
          }
        }
      ]
    },
    {
      "cell_type": "code",
      "source": [
        "def check_repeat_val(x:str)->int:\n",
        "  '''Function checks the number of files with repeting values'''\n",
        "  \n",
        "  count = 0\n",
        "  for file_ in files_n:\n",
        "    df = read_file_n(file_)\n",
        "    if len(df[x].value_counts()) <2000:\n",
        "      count+=1\n",
        "\n",
        "  return count"
      ],
      "metadata": {
        "id": "BxcWGzEsi8Yg"
      },
      "execution_count": 12,
      "outputs": []
    },
    {
      "cell_type": "code",
      "source": [
        "### all files do not have repeating values\n",
        "\n",
        "check_repeat_val('P'), check_repeat_val('u_x'),check_repeat_val('u_y')"
      ],
      "metadata": {
        "id": "PVRaXz5uQYMJ",
        "outputId": "778f88f5-3986-4d4e-d9d4-6c2aa66ec983",
        "colab": {
          "base_uri": "https://localhost:8080/"
        }
      },
      "execution_count": 13,
      "outputs": [
        {
          "output_type": "execute_result",
          "data": {
            "text/plain": [
              "(0, 0, 0)"
            ]
          },
          "metadata": {},
          "execution_count": 13
        }
      ]
    },
    {
      "cell_type": "code",
      "source": [
        "P_min   = [read_file_n(x)['P'].min() for x in files_n]\n",
        "P_max   = [read_file_n(x)['P'].max() for x in files_n]\n",
        "P_mean  = [read_file_n(x)['P'].mean() for x in files_n]\n",
        "\n",
        "u_x_min  = [read_file_n(x)['u_x'].min() for x in files_n]\n",
        "u_x_max  = [read_file_n(x)['u_x'].max() for x in files_n]\n",
        "u_x_mean = [read_file_n(x)['u_x'].mean() for x in files_n]\n",
        "\n",
        "u_y_min  = [read_file_n(x)['u_y'].min() for x in files_n]\n",
        "u_y_max  = [read_file_n(x)['u_y'].max() for x in files_n]\n",
        "u_y_mean = [read_file_n(x)['u_y'].mean() for x in files_n]"
      ],
      "metadata": {
        "id": "it9rKR_flVyx"
      },
      "execution_count": 14,
      "outputs": []
    },
    {
      "cell_type": "code",
      "source": [
        "fig, axs = plt.subplots(3, 3,figsize=(15,10))\n",
        "\n",
        "\n",
        "axs[0,0].hist(P_min)\n",
        "axs[0, 0].set_title('P_min')\n",
        "axs[0,1].hist(P_mean)\n",
        "axs[0, 1].set_title('P_mean')\n",
        "axs[0,2].hist(P_max)\n",
        "axs[0, 2].set_title('P_max')\n",
        "\n",
        "axs[1,0].hist(u_x_min)\n",
        "axs[1, 0].set_title('U_x_min')\n",
        "axs[1,1].hist(u_x_mean)\n",
        "axs[1, 1].set_title('U_x_mean')\n",
        "axs[1,2].hist(u_x_max)\n",
        "axs[1, 2].set_title('U_x_max')\n",
        "\n",
        "axs[2,0].hist(u_y_min)\n",
        "axs[2, 0].set_title('U_y_min')\n",
        "axs[2,1].hist(u_y_mean)\n",
        "axs[2, 1].set_title('U_y_mean')\n",
        "axs[2,2].hist(u_y_max)\n",
        "axs[2, 2].set_title('U_y_max')\n",
        "\n",
        "plt.tight_layout()"
      ],
      "metadata": {
        "id": "9m0QlpVFnO_0",
        "outputId": "969734c7-be03-434b-a5c5-1d55731803ee",
        "colab": {
          "base_uri": "https://localhost:8080/",
          "height": 729
        }
      },
      "execution_count": 15,
      "outputs": [
        {
          "output_type": "display_data",
          "data": {
            "text/plain": [
              "<Figure size 1080x720 with 9 Axes>"
            ],
            "image/png": "[encoded data removed]"
          },
          "metadata": {
            "needs_background": "light"
          }
        }
      ]
    },
    {
      "cell_type": "code",
      "source": [
        "# Install required packages.\n",
        "!pip install -q torch-scatter -f https://data.pyg.org/whl/torch-1.10.0+cu113.html\n",
        "!pip install -q torch-sparse -f https://data.pyg.org/whl/torch-1.10.0+cu113.html\n",
        "!pip install -q git+https://github.com/pyg-team/pytorch_geometric.git\n"
      ],
      "metadata": {
        "id": "iKLWnR6PwCpr",
        "outputId": "c4c81e67-7e45-4026-b185-041b6668bdfa",
        "colab": {
          "base_uri": "https://localhost:8080/"
        }
      },
      "execution_count": 16,
      "outputs": [
        {
          "output_type": "stream",
          "name": "stdout",
          "text": [
            "\u001b[K     |████████████████████████████████| 7.9 MB 2.6 MB/s \n",
            "\u001b[K     |████████████████████████████████| 3.5 MB 2.1 MB/s \n",
            "\u001b[?25h  Building wheel for torch-geometric (setup.py) ... \u001b[?25l\u001b[?25hdone\n"
          ]
        }
      ]
    },
    {
      "cell_type": "code",
      "source": [
        "from torch_geometric.data import DataLoader\n",
        "from data_ import dataset_graph_,velocities_cav\n",
        "import torch\n",
        "import glob"
      ],
      "metadata": {
        "id": "9uwG9oAR7vtG"
      },
      "execution_count": 21,
      "outputs": []
    },
    {
      "cell_type": "code",
      "source": [
        "dir_    = r'/content/CFD_unet/dataset/*txt'\n",
        "dataset = dataset_graph_(dir_)"
      ],
      "metadata": {
        "id": "Fa2YT1Tp70-X"
      },
      "execution_count": 22,
      "outputs": []
    },
    {
      "cell_type": "code",
      "source": [
        "len(dataset)"
      ],
      "metadata": {
        "id": "QLcYnBXF8aPX",
        "outputId": "963df627-5d90-4c81-be6d-7a6eadb0c4b8",
        "colab": {
          "base_uri": "https://localhost:8080/"
        }
      },
      "execution_count": 20,
      "outputs": [
        {
          "output_type": "execute_result",
          "data": {
            "text/plain": [
              "99"
            ]
          },
          "metadata": {},
          "execution_count": 20
        }
      ]
    },
    {
      "cell_type": "code",
      "source": [
        "dataset.split_by = '/'"
      ],
      "metadata": {
        "id": "XpJexeJXbFib"
      },
      "execution_count": 25,
      "outputs": []
    },
    {
      "cell_type": "code",
      "source": [
        "dir1 = '67e334_198_-21_14936_626_-61_n.txt'\n"
      ],
      "metadata": {
        "id": "mQB0GcsWAMbn"
      },
      "execution_count": null,
      "outputs": []
    },
    {
      "cell_type": "code",
      "source": [
        "graph ,X_out  = dataset.get(10)\n"
      ],
      "metadata": {
        "id": "dmCxeep5Ed4t",
        "outputId": "fe920256-a991-408f-dde9-bc4502b1286f",
        "colab": {
          "base_uri": "https://localhost:8080/",
          "height": 310
        }
      },
      "execution_count": 26,
      "outputs": [
        {
          "output_type": "error",
          "ename": "IndexError",
          "evalue": "ignored",
          "traceback": [
            "\u001b[0;31m---------------------------------------------------------------------------\u001b[0m",
            "\u001b[0;31mIndexError\u001b[0m                                Traceback (most recent call last)",
            "\u001b[0;32m<ipython-input-26-5f5d61f6028f>\u001b[0m in \u001b[0;36m<module>\u001b[0;34m()\u001b[0m\n\u001b[0;32m----> 1\u001b[0;31m \u001b[0mgraph\u001b[0m \u001b[0;34m,\u001b[0m\u001b[0mX_out\u001b[0m  \u001b[0;34m=\u001b[0m \u001b[0mdataset\u001b[0m\u001b[0;34m.\u001b[0m\u001b[0mget\u001b[0m\u001b[0;34m(\u001b[0m\u001b[0;36m10\u001b[0m\u001b[0;34m)\u001b[0m\u001b[0;34m\u001b[0m\u001b[0;34m\u001b[0m\u001b[0m\n\u001b[0m",
            "\u001b[0;32m/content/CFD_unet/data_.py\u001b[0m in \u001b[0;36mget\u001b[0;34m(self, idx)\u001b[0m\n\u001b[1;32m    146\u001b[0m         \u001b[0mn\u001b[0m \u001b[0;34m=\u001b[0m \u001b[0mc\u001b[0m \u001b[0;34m+\u001b[0m \u001b[0;36m2\u001b[0m\u001b[0;34m\u001b[0m\u001b[0;34m\u001b[0m\u001b[0m\n\u001b[1;32m    147\u001b[0m \u001b[0;34m\u001b[0m\u001b[0m\n\u001b[0;32m--> 148\u001b[0;31m         \u001b[0mX_input\u001b[0m\u001b[0;34m,\u001b[0m \u001b[0mX_output\u001b[0m\u001b[0;34m,\u001b[0m \u001b[0mnode_dict_\u001b[0m \u001b[0;34m=\u001b[0m \u001b[0mnode_data\u001b[0m\u001b[0;34m(\u001b[0m\u001b[0mself\u001b[0m\u001b[0;34m.\u001b[0m\u001b[0mfiles\u001b[0m\u001b[0;34m[\u001b[0m\u001b[0mn\u001b[0m\u001b[0;34m]\u001b[0m\u001b[0;34m,\u001b[0m\u001b[0mself\u001b[0m\u001b[0;34m.\u001b[0m\u001b[0msplit_by\u001b[0m\u001b[0;34m)\u001b[0m\u001b[0;34m\u001b[0m\u001b[0;34m\u001b[0m\u001b[0m\n\u001b[0m\u001b[1;32m    149\u001b[0m         \u001b[0mcoo_matrix\u001b[0m                    \u001b[0;34m=\u001b[0m \u001b[0mconnectivity_data\u001b[0m\u001b[0;34m(\u001b[0m\u001b[0mself\u001b[0m\u001b[0;34m.\u001b[0m\u001b[0mfiles\u001b[0m\u001b[0;34m[\u001b[0m\u001b[0mc\u001b[0m\u001b[0;34m]\u001b[0m\u001b[0;34m,\u001b[0m \u001b[0mnode_dict_\u001b[0m\u001b[0;34m)\u001b[0m\u001b[0;34m\u001b[0m\u001b[0;34m\u001b[0m\u001b[0m\n\u001b[1;32m    150\u001b[0m         \u001b[0medge_feat\u001b[0m                     \u001b[0;34m=\u001b[0m \u001b[0medge_features\u001b[0m\u001b[0;34m(\u001b[0m\u001b[0mcoo_matrix\u001b[0m\u001b[0;34m,\u001b[0m\u001b[0mX_input\u001b[0m\u001b[0;34m)\u001b[0m\u001b[0;34m\u001b[0m\u001b[0;34m\u001b[0m\u001b[0m\n",
            "\u001b[0;32m/content/CFD_unet/data_.py\u001b[0m in \u001b[0;36mnode_data\u001b[0;34m(dir, split_by)\u001b[0m\n\u001b[1;32m    114\u001b[0m         \u001b[0mnode_type\u001b[0m\u001b[0;34m.\u001b[0m\u001b[0mappend\u001b[0m\u001b[0;34m(\u001b[0m\u001b[0mint\u001b[0m\u001b[0;34m(\u001b[0m\u001b[0mline_\u001b[0m\u001b[0;34m[\u001b[0m\u001b[0;36m1\u001b[0m\u001b[0;34m]\u001b[0m\u001b[0;34m)\u001b[0m\u001b[0;34m)\u001b[0m\u001b[0;34m\u001b[0m\u001b[0;34m\u001b[0m\u001b[0m\n\u001b[1;32m    115\u001b[0m         \u001b[0;34m'''float_data = x,y,P,v_x,v_y'''\u001b[0m\u001b[0;34m\u001b[0m\u001b[0;34m\u001b[0m\u001b[0m\n\u001b[0;32m--> 116\u001b[0;31m         \u001b[0mx\u001b[0m\u001b[0;34m,\u001b[0m \u001b[0my\u001b[0m\u001b[0;34m,\u001b[0m \u001b[0mP\u001b[0m\u001b[0;34m,\u001b[0m \u001b[0mv_x\u001b[0m\u001b[0;34m,\u001b[0m \u001b[0mv_y\u001b[0m      \u001b[0;34m=\u001b[0m \u001b[0;34m[\u001b[0m\u001b[0mfloat\u001b[0m\u001b[0;34m(\u001b[0m\u001b[0mline_\u001b[0m\u001b[0;34m[\u001b[0m\u001b[0mx\u001b[0m\u001b[0;34m]\u001b[0m\u001b[0;34m)\u001b[0m \u001b[0;32mfor\u001b[0m \u001b[0mx\u001b[0m \u001b[0;32min\u001b[0m \u001b[0mrange\u001b[0m\u001b[0;34m(\u001b[0m\u001b[0;36m2\u001b[0m\u001b[0;34m,\u001b[0m \u001b[0;36m7\u001b[0m\u001b[0;34m)\u001b[0m\u001b[0;34m]\u001b[0m\u001b[0;34m\u001b[0m\u001b[0;34m\u001b[0m\u001b[0m\n\u001b[0m\u001b[1;32m    117\u001b[0m \u001b[0;34m\u001b[0m\u001b[0m\n\u001b[1;32m    118\u001b[0m         \u001b[0moutput_nodes_data\u001b[0m\u001b[0;34m[\u001b[0m\u001b[0mi\u001b[0m\u001b[0;34m,\u001b[0m\u001b[0;34m:\u001b[0m\u001b[0;34m]\u001b[0m \u001b[0;34m=\u001b[0m \u001b[0mtorch\u001b[0m\u001b[0;34m.\u001b[0m\u001b[0mtensor\u001b[0m\u001b[0;34m(\u001b[0m\u001b[0;34m[\u001b[0m\u001b[0mP\u001b[0m\u001b[0;34m,\u001b[0m\u001b[0mv_x\u001b[0m\u001b[0;34m,\u001b[0m\u001b[0mv_y\u001b[0m\u001b[0;34m]\u001b[0m\u001b[0;34m,\u001b[0m\u001b[0mdtype\u001b[0m\u001b[0;34m=\u001b[0m\u001b[0mtorch\u001b[0m\u001b[0;34m.\u001b[0m\u001b[0mfloat32\u001b[0m\u001b[0;34m)\u001b[0m\u001b[0;34m\u001b[0m\u001b[0;34m\u001b[0m\u001b[0m\n",
            "\u001b[0;32m/content/CFD_unet/data_.py\u001b[0m in \u001b[0;36m<listcomp>\u001b[0;34m(.0)\u001b[0m\n\u001b[1;32m    114\u001b[0m         \u001b[0mnode_type\u001b[0m\u001b[0;34m.\u001b[0m\u001b[0mappend\u001b[0m\u001b[0;34m(\u001b[0m\u001b[0mint\u001b[0m\u001b[0;34m(\u001b[0m\u001b[0mline_\u001b[0m\u001b[0;34m[\u001b[0m\u001b[0;36m1\u001b[0m\u001b[0;34m]\u001b[0m\u001b[0;34m)\u001b[0m\u001b[0;34m)\u001b[0m\u001b[0;34m\u001b[0m\u001b[0;34m\u001b[0m\u001b[0m\n\u001b[1;32m    115\u001b[0m         \u001b[0;34m'''float_data = x,y,P,v_x,v_y'''\u001b[0m\u001b[0;34m\u001b[0m\u001b[0;34m\u001b[0m\u001b[0m\n\u001b[0;32m--> 116\u001b[0;31m         \u001b[0mx\u001b[0m\u001b[0;34m,\u001b[0m \u001b[0my\u001b[0m\u001b[0;34m,\u001b[0m \u001b[0mP\u001b[0m\u001b[0;34m,\u001b[0m \u001b[0mv_x\u001b[0m\u001b[0;34m,\u001b[0m \u001b[0mv_y\u001b[0m      \u001b[0;34m=\u001b[0m \u001b[0;34m[\u001b[0m\u001b[0mfloat\u001b[0m\u001b[0;34m(\u001b[0m\u001b[0mline_\u001b[0m\u001b[0;34m[\u001b[0m\u001b[0mx\u001b[0m\u001b[0;34m]\u001b[0m\u001b[0;34m)\u001b[0m \u001b[0;32mfor\u001b[0m \u001b[0mx\u001b[0m \u001b[0;32min\u001b[0m \u001b[0mrange\u001b[0m\u001b[0;34m(\u001b[0m\u001b[0;36m2\u001b[0m\u001b[0;34m,\u001b[0m \u001b[0;36m7\u001b[0m\u001b[0;34m)\u001b[0m\u001b[0;34m]\u001b[0m\u001b[0;34m\u001b[0m\u001b[0;34m\u001b[0m\u001b[0m\n\u001b[0m\u001b[1;32m    117\u001b[0m \u001b[0;34m\u001b[0m\u001b[0m\n\u001b[1;32m    118\u001b[0m         \u001b[0moutput_nodes_data\u001b[0m\u001b[0;34m[\u001b[0m\u001b[0mi\u001b[0m\u001b[0;34m,\u001b[0m\u001b[0;34m:\u001b[0m\u001b[0;34m]\u001b[0m \u001b[0;34m=\u001b[0m \u001b[0mtorch\u001b[0m\u001b[0;34m.\u001b[0m\u001b[0mtensor\u001b[0m\u001b[0;34m(\u001b[0m\u001b[0;34m[\u001b[0m\u001b[0mP\u001b[0m\u001b[0;34m,\u001b[0m\u001b[0mv_x\u001b[0m\u001b[0;34m,\u001b[0m\u001b[0mv_y\u001b[0m\u001b[0;34m]\u001b[0m\u001b[0;34m,\u001b[0m\u001b[0mdtype\u001b[0m\u001b[0;34m=\u001b[0m\u001b[0mtorch\u001b[0m\u001b[0;34m.\u001b[0m\u001b[0mfloat32\u001b[0m\u001b[0;34m)\u001b[0m\u001b[0;34m\u001b[0m\u001b[0;34m\u001b[0m\u001b[0m\n",
            "\u001b[0;31mIndexError\u001b[0m: list index out of range"
          ]
        }
      ]
    },
    {
      "cell_type": "code",
      "source": [
        "files_c = glob.glob(r'/content/CFD_unet/dataset/*_c.txt',recursive=True)\n",
        "files_n = glob.glob(r'/content/CFD_unet/dataset/*_n.txt',recursive=True)"
      ],
      "metadata": {
        "id": "GMVKrPD1eHo7"
      },
      "execution_count": 34,
      "outputs": []
    },
    {
      "cell_type": "code",
      "source": [
        "files = glob.glob(r'/content/CFD_unet/dataset/*.txt',recursive=True)"
      ],
      "metadata": {
        "id": "RnBXvfWdeSuk"
      },
      "execution_count": 37,
      "outputs": []
    },
    {
      "cell_type": "code",
      "source": [
        "import os\n",
        "sorted(glob.glob('/content/CFD_unet/dataset/*_c.txt'), key=os.path.getmtime)[:10]"
      ],
      "metadata": {
        "colab": {
          "base_uri": "https://localhost:8080/"
        },
        "id": "pgMNEozofMnK",
        "outputId": "092e44c2-11ce-4e83-c62a-426546056e0e"
      },
      "execution_count": 40,
      "outputs": [
        {
          "output_type": "execute_result",
          "data": {
            "text/plain": [
              "['/content/CFD_unet/dataset/100e432_195_40_17632_761_115_c.txt',\n",
              " '/content/CFD_unet/dataset/10e479_199_-14_10894_424_-42_c.txt',\n",
              " '/content/CFD_unet/dataset/11e395_199_-12_18259_792_-37_c.txt',\n",
              " '/content/CFD_unet/dataset/12e561_199_-12_12833_521_-35_c.txt',\n",
              " '/content/CFD_unet/dataset/13e335_199_1_16758_717_2_c.txt',\n",
              " '/content/CFD_unet/dataset/14e1210_199_18_15507_655_52_c.txt',\n",
              " '/content/CFD_unet/dataset/15e203_199_-17_16930_726_-49_c.txt',\n",
              " '/content/CFD_unet/dataset/16e338_198_-20_12678_513_-59_c.txt',\n",
              " '/content/CFD_unet/dataset/17e558_197_-33_12345_497_-97_c.txt',\n",
              " '/content/CFD_unet/dataset/18e337_195_43_14926_626_125_c.txt']"
            ]
          },
          "metadata": {},
          "execution_count": 40
        }
      ]
    },
    {
      "cell_type": "code",
      "source": [
        "import os\n",
        "files_ = sorted(glob.glob('/content/CFD_unet/dataset/*.txt'), key=os.path.getmtime)"
      ],
      "metadata": {
        "id": "wVbeQoYSfWP-"
      },
      "execution_count": 46,
      "outputs": []
    },
    {
      "cell_type": "code",
      "source": [
        "idx = 90\n",
        "\n",
        "c = idx*3\n",
        "n = c + 2"
      ],
      "metadata": {
        "id": "2DGUBK26dlDg"
      },
      "execution_count": 49,
      "outputs": []
    },
    {
      "cell_type": "code",
      "source": [
        "files_[c],files_[n]"
      ],
      "metadata": {
        "colab": {
          "base_uri": "https://localhost:8080/"
        },
        "id": "qy4sHHwahg9N",
        "outputId": "8f0a1be9-66e1-4c24-fec4-35c2f52f06f8"
      },
      "execution_count": 50,
      "outputs": [
        {
          "output_type": "execute_result",
          "data": {
            "text/plain": [
              "('/content/CFD_unet/dataset/92e395_195_-40_11061_433_-116_c.txt',\n",
              " '/content/CFD_unet/dataset/92e395_195_-40_11061_433_-116_n.txt')"
            ]
          },
          "metadata": {},
          "execution_count": 50
        }
      ]
    }
  ]
}